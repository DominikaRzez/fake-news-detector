{
 "cells": [
  {
   "cell_type": "code",
   "execution_count": 1,
   "id": "1468ce63",
   "metadata": {},
   "outputs": [],
   "source": [
    "# Import relevant libraries\n",
    "import numpy as np\n",
    "import pandas as pd\n",
    "import matplotlib.pyplot as plt\n",
    "\n",
    "# nltk for text cleaning\n",
    "import nltk\n",
    "from nltk.corpus import stopwords\n",
    "from nltk.stem import WordNetLemmatizer\n",
    "import re\n",
    "\n",
    "# wordcloud creation libraries\n",
    "from wordcloud import WordCloud, STOPWORDS, ImageColorGenerator\n",
    "import matplotlib.pyplot as plt\n",
    "\n",
    "# ML libraries\n",
    "from sklearn.feature_extraction.text import TfidfVectorizer\n",
    "from sklearn.model_selection import train_test_split\n",
    "from sklearn.naive_bayes import MultinomialNB\n",
    "from sklearn.metrics import accuracy_score,classification_report\n",
    "import joblib"
   ]
  },
  {
   "cell_type": "code",
   "execution_count": 2,
   "id": "32459ef6",
   "metadata": {},
   "outputs": [],
   "source": [
    "vectorizer = joblib.load('resources/multinomial-NB-pickle.pkl')\n",
    "clf = joblib.load('resources/multinomial-NB-model.pkl')"
   ]
  },
  {
   "cell_type": "code",
   "execution_count": 3,
   "id": "4d50143e",
   "metadata": {},
   "outputs": [
    {
     "data": {
      "text/plain": [
       "(TfidfVectorizer(lowercase=False, max_features=50000, ngram_range=(1, 2)),\n",
       " MultinomialNB())"
      ]
     },
     "execution_count": 3,
     "metadata": {},
     "output_type": "execute_result"
    }
   ],
   "source": [
    "vectorizer, clf"
   ]
  },
  {
   "cell_type": "code",
   "execution_count": 4,
   "id": "fd342a46",
   "metadata": {},
   "outputs": [
    {
     "name": "stderr",
     "output_type": "stream",
     "text": [
      "[nltk_data] Downloading package wordnet to\n",
      "[nltk_data]     C:\\Users\\jfrgr\\AppData\\Roaming\\nltk_data...\n",
      "[nltk_data]   Package wordnet is already up-to-date!\n"
     ]
    }
   ],
   "source": [
    "# create the values for the text cleaning\n",
    "ps = WordNetLemmatizer()\n",
    "stopwords = stopwords.words(\"english\")\n",
    "nltk.download(\"wordnet\")\n",
    "\n",
    "# Define a funtion to clean the text\n",
    "def cleaning_data(row):\n",
    "    \n",
    "    # convert text to into lower case\n",
    "    row = row.lower() \n",
    "    \n",
    "    # this line of code only take words from text and remove number and special character using RegX\n",
    "    row = re.sub('[^a-zA-Z]' , ' ' , row)\n",
    "    \n",
    "    # split the data and make token.\n",
    "    token = row.split() \n",
    "    \n",
    "    # lemmatise the word and remove stop words like a, an , the , is ,are ...\n",
    "    news = [ps.lemmatize(word) for word in token if not word in stopwords]  \n",
    "    \n",
    "    # finaly join all the token with space\n",
    "    cleaned_news = ' '.join(news) \n",
    "    \n",
    "    # return cleanned data\n",
    "    return cleaned_news "
   ]
  },
  {
   "cell_type": "code",
   "execution_count": 7,
   "id": "46462903",
   "metadata": {},
   "outputs": [
    {
     "data": {
      "text/plain": [
       "'knight round tableau worked tirelessly week produce model predict whether article fake news true model decide'"
      ]
     },
     "execution_count": 7,
     "metadata": {},
     "output_type": "execute_result"
    }
   ],
   "source": [
    "news = cleaning_data(str(\"The Knights of the Round Tableau have worked tirelessly for weeks to produce models to predict whether an article is fake news. Is this true? Only the model can decide...\"))\n",
    "news"
   ]
  },
  {
   "cell_type": "code",
   "execution_count": 8,
   "id": "8c1615bd",
   "metadata": {},
   "outputs": [
    {
     "name": "stdout",
     "output_type": "stream",
     "text": [
      "The model says...\n",
      "Your article is a load of rubbish!\n"
     ]
    }
   ],
   "source": [
    "single_prediction = clf.predict(vectorizer.transform([news]).toarray())\n",
    "single_prediction\n",
    "\n",
    "\n",
    "print(\"The model says...\")\n",
    "\n",
    "if single_prediction == 0:\n",
    "    print(\"Your article is legit!\")\n",
    "else:\n",
    "    print(\"Your article is a load of rubbish!\")"
   ]
  }
 ],
 "metadata": {
  "kernelspec": {
   "display_name": "Python 3",
   "language": "python",
   "name": "python3"
  },
  "language_info": {
   "codemirror_mode": {
    "name": "ipython",
    "version": 3
   },
   "file_extension": ".py",
   "mimetype": "text/x-python",
   "name": "python",
   "nbconvert_exporter": "python",
   "pygments_lexer": "ipython3",
   "version": "3.8.8"
  }
 },
 "nbformat": 4,
 "nbformat_minor": 5
}
