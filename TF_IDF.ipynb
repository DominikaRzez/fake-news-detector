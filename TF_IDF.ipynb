{
  "nbformat": 4,
  "nbformat_minor": 0,
  "metadata": {
    "colab": {
      "name": "TF-IDF.ipynb",
      "provenance": []
    },
    "kernelspec": {
      "name": "python3",
      "display_name": "Python 3"
    },
    "language_info": {
      "name": "python"
    }
  },
  "cells": [
    {
      "cell_type": "code",
      "execution_count": 1,
      "metadata": {
        "colab": {
          "base_uri": "https://localhost:8080/"
        },
        "id": "-Vu9budV6MR0",
        "outputId": "b5fcc22b-8f8b-4f1d-8860-a5b2f0ae5e83"
      },
      "outputs": [
        {
          "output_type": "stream",
          "name": "stdout",
          "text": [
            "\r0% [Working]\r            \rGet:1 http://security.ubuntu.com/ubuntu bionic-security InRelease [88.7 kB]\n",
            "\r0% [Waiting for headers] [1 InRelease 14.2 kB/88.7 kB 16%] [Connecting to cloud\r                                                                               \rHit:2 http://archive.ubuntu.com/ubuntu bionic InRelease\n",
            "Hit:3 https://developer.download.nvidia.com/compute/cuda/repos/ubuntu1804/x86_64  InRelease\n",
            "Get:4 http://archive.ubuntu.com/ubuntu bionic-updates InRelease [88.7 kB]\n",
            "Ign:5 https://developer.download.nvidia.com/compute/machine-learning/repos/ubuntu1804/x86_64  InRelease\n",
            "Hit:6 https://developer.download.nvidia.com/compute/machine-learning/repos/ubuntu1804/x86_64  Release\n",
            "Get:7 https://cloud.r-project.org/bin/linux/ubuntu bionic-cran40/ InRelease [3,626 B]\n",
            "Get:8 http://ppa.launchpad.net/c2d4u.team/c2d4u4.0+/ubuntu bionic InRelease [15.9 kB]\n",
            "Get:9 http://archive.ubuntu.com/ubuntu bionic-backports InRelease [74.6 kB]\n",
            "Hit:10 http://ppa.launchpad.net/cran/libgit2/ubuntu bionic InRelease\n",
            "Hit:11 http://ppa.launchpad.net/deadsnakes/ppa/ubuntu bionic InRelease\n",
            "Get:12 http://security.ubuntu.com/ubuntu bionic-security/universe amd64 Packages [1,496 kB]\n",
            "Hit:13 http://ppa.launchpad.net/graphics-drivers/ppa/ubuntu bionic InRelease\n",
            "Get:14 http://security.ubuntu.com/ubuntu bionic-security/main amd64 Packages [2,733 kB]\n",
            "Get:16 http://archive.ubuntu.com/ubuntu bionic-updates/universe amd64 Packages [2,272 kB]\n",
            "Get:17 http://archive.ubuntu.com/ubuntu bionic-updates/main amd64 Packages [3,167 kB]\n",
            "Get:18 http://ppa.launchpad.net/c2d4u.team/c2d4u4.0+/ubuntu bionic/main Sources [1,953 kB]\n",
            "Get:19 http://ppa.launchpad.net/c2d4u.team/c2d4u4.0+/ubuntu bionic/main amd64 Packages [1,001 kB]\n",
            "Fetched 12.9 MB in 4s (3,436 kB/s)\n",
            "Reading package lists... Done\n"
          ]
        }
      ],
      "source": [
        "import os\n",
        "# Find the latest version of spark 3.0  from http://www.apache.org/dist/spark/ and enter as the spark version\n",
        "# For example:\n",
        "# spark_version = 'spark-3.0.3'\n",
        "spark_version = 'spark-3.2.1'\n",
        "os.environ['SPARK_VERSION']=spark_version\n",
        "\n",
        "# Install Spark and Java\n",
        "!apt-get update\n",
        "!apt-get install openjdk-8-jdk-headless -qq > /dev/null\n",
        "!wget -q http://www.apache.org/dist/spark/$SPARK_VERSION/$SPARK_VERSION-bin-hadoop2.7.tgz\n",
        "!tar xf $SPARK_VERSION-bin-hadoop2.7.tgz\n",
        "!pip install -q findspark\n",
        "\n",
        "# Set Environment Variables\n",
        "os.environ[\"JAVA_HOME\"] = \"/usr/lib/jvm/java-8-openjdk-amd64\"\n",
        "os.environ[\"SPARK_HOME\"] = f\"/content/{spark_version}-bin-hadoop2.7\"\n",
        "\n",
        "# Start a SparkSession\n",
        "import findspark\n",
        "findspark.init()"
      ]
    },
    {
      "cell_type": "code",
      "source": [
        "# Start Spark session\n",
        "from pyspark.sql import SparkSession\n",
        "spark = SparkSession.builder.appName(\"Hashing\").getOrCreate()"
      ],
      "metadata": {
        "id": "N0f4vTT96OgS"
      },
      "execution_count": 2,
      "outputs": []
    },
    {
      "cell_type": "code",
      "source": [
        " from pyspark.ml.feature import HashingTF, IDF, Tokenizer"
      ],
      "metadata": {
        "id": "BZCl6w8o6hgE"
      },
      "execution_count": 3,
      "outputs": []
    },
    {
      "cell_type": "code",
      "source": [
        "# Read in CSV\n",
        "from pyspark import SparkFiles\n",
        "df = spark.read.csv(SparkFiles.get(\"/content/news.csv\"),sep=\",\", escape='\"', encoding=\"utf-8\", quote='\"',  header=True)\n",
        "df.show(5)"
      ],
      "metadata": {
        "colab": {
          "base_uri": "https://localhost:8080/"
        },
        "id": "dBpqmVWE6mNi",
        "outputId": "d941cb53-2734-4bbf-cb3b-acab6a531192"
      },
      "execution_count": 4,
      "outputs": [
        {
          "output_type": "stream",
          "name": "stdout",
          "text": [
            "+--------------------+--------------------+-------+----------+------------+\n",
            "|               title|                text|subject|      date|news_outcome|\n",
            "+--------------------+--------------------+-------+----------+------------+\n",
            "|['donald', 'trump...|['donald', 'trump...|   News|31/12/2017|           1|\n",
            "|['drunk', 'braggi...|['house', 'intell...|   News|31/12/2017|           1|\n",
            "|['sheriff', 'davi...|['friday', 'revea...|   News|30/12/2017|           1|\n",
            "|['trump', 'obsess...|['christmas', 'da...|   News|29/12/2017|           1|\n",
            "|['pope', 'francis...|['pope', 'francis...|   News|25/12/2017|           1|\n",
            "+--------------------+--------------------+-------+----------+------------+\n",
            "only showing top 5 rows\n",
            "\n"
          ]
        }
      ]
    },
    {
      "cell_type": "code",
      "source": [
        "df.printSchema()"
      ],
      "metadata": {
        "colab": {
          "base_uri": "https://localhost:8080/"
        },
        "id": "ezuEienogLQ5",
        "outputId": "0353f8b3-47ea-47cb-ac44-5c7e501c3d20"
      },
      "execution_count": 5,
      "outputs": [
        {
          "output_type": "stream",
          "name": "stdout",
          "text": [
            "root\n",
            " |-- title: string (nullable = true)\n",
            " |-- text: string (nullable = true)\n",
            " |-- subject: string (nullable = true)\n",
            " |-- date: string (nullable = true)\n",
            " |-- news_outcome: string (nullable = true)\n",
            "\n"
          ]
        }
      ]
    },
    {
      "cell_type": "code",
      "source": [
        "from pyspark.sql.functions import udf, col, split\n",
        "\n",
        "tolist_udf = udf(lambda x: x.replace(\"[\",\"\").replace(\"]\",\"\").replace(\"'\",\"\"))"
      ],
      "metadata": {
        "id": "m3dBN2BBgOaE"
      },
      "execution_count": 6,
      "outputs": []
    },
    {
      "cell_type": "code",
      "source": [
        "df_2 = df.withColumn(\"title\", tolist_udf(col(\"title\")))"
      ],
      "metadata": {
        "id": "8CNyD2ARgRNL"
      },
      "execution_count": 7,
      "outputs": []
    },
    {
      "cell_type": "code",
      "source": [
        "df_3 = df_2.select(split(col(\"title\"),\",\").alias(\"TitleArray\")) \\\n",
        "    .drop(\"title\")\n",
        "df_3.printSchema()"
      ],
      "metadata": {
        "colab": {
          "base_uri": "https://localhost:8080/"
        },
        "id": "qiqSojxzgXEP",
        "outputId": "7c68aeca-1acf-4038-b065-e090a8c57a28"
      },
      "execution_count": 44,
      "outputs": [
        {
          "output_type": "stream",
          "name": "stdout",
          "text": [
            "root\n",
            " |-- TitleArray: array (nullable = true)\n",
            " |    |-- element: string (containsNull = true)\n",
            "\n"
          ]
        }
      ]
    },
    {
      "cell_type": "code",
      "source": [
        "# Run the hashing term frequency\n",
        "hashing = HashingTF(inputCol=\"TitleArray\", outputCol=\"TitleHashedValues\", numFeatures=pow(2,5))"
      ],
      "metadata": {
        "id": "ht7JMHaZgbKf"
      },
      "execution_count": 29,
      "outputs": []
    },
    {
      "cell_type": "code",
      "source": [
        "hashed_df = hashing.transform(df_3)"
      ],
      "metadata": {
        "id": "TQ8jlM7ugheu"
      },
      "execution_count": 30,
      "outputs": []
    },
    {
      "cell_type": "code",
      "source": [
        "hashed_df.show(3, truncate=False)"
      ],
      "metadata": {
        "colab": {
          "base_uri": "https://localhost:8080/"
        },
        "id": "JvtwY_Yagi96",
        "outputId": "f20d7e7e-0e33-40fa-e141-d2a7beb29b79"
      },
      "execution_count": 45,
      "outputs": [
        {
          "output_type": "stream",
          "name": "stdout",
          "text": [
            "+--------------------------------------------------------------------------------------+-------------------------------------------------------------------+\n",
            "|TitleArray                                                                            |TitleHashedValues                                                  |\n",
            "+--------------------------------------------------------------------------------------+-------------------------------------------------------------------+\n",
            "|[donald,  trump,  send,  embarrassing,  new,  year,  eve,  message,  disturb]         |(32,[4,9,11,13,22,25,28,30],[1.0,1.0,2.0,1.0,1.0,1.0,1.0,1.0])     |\n",
            "|[drunk,  bragging,  trump,  staffer,  start,  russian,  collusion,  investigation]    |(32,[0,2,10,14,16,17,22,29],[1.0,1.0,1.0,1.0,1.0,1.0,1.0,1.0])     |\n",
            "|[sheriff,  david,  clarke,  become,  internet,  joke,  threaten,  poke,  people,  eye]|(32,[3,5,6,7,10,13,16,22,24],[1.0,1.0,1.0,1.0,1.0,2.0,1.0,1.0,1.0])|\n",
            "+--------------------------------------------------------------------------------------+-------------------------------------------------------------------+\n",
            "only showing top 3 rows\n",
            "\n"
          ]
        }
      ]
    },
    {
      "cell_type": "code",
      "source": [
        "text_df = df_2.withColumn(\"text\", tolist_udf(col(\"text\")))"
      ],
      "metadata": {
        "id": "UPi9_eYMhTwu"
      },
      "execution_count": 21,
      "outputs": []
    },
    {
      "cell_type": "code",
      "source": [
        "text_df2 = text_df.select(split(col(\"text\"),\",\").alias(\"TextArray\"), \"text\") \\\n",
        "    .drop(\"text\")\n",
        "text_df2.printSchema()"
      ],
      "metadata": {
        "colab": {
          "base_uri": "https://localhost:8080/"
        },
        "id": "63NU44dphwyl",
        "outputId": "ab8088f6-266a-4d23-85c4-0b540f760d07"
      },
      "execution_count": 47,
      "outputs": [
        {
          "output_type": "stream",
          "name": "stdout",
          "text": [
            "root\n",
            " |-- TextArray: array (nullable = true)\n",
            " |    |-- element: string (containsNull = true)\n",
            "\n"
          ]
        }
      ]
    },
    {
      "cell_type": "code",
      "source": [
        "# Run the hashing term frequency\n",
        "hashing = HashingTF(inputCol=\"TextArray\", outputCol=\"TextHashedValues\", numFeatures=pow(2,5))"
      ],
      "metadata": {
        "id": "TZtCUsSziRNz"
      },
      "execution_count": 25,
      "outputs": []
    },
    {
      "cell_type": "code",
      "source": [
        "hashed_df_text = hashing.transform(text_df2)"
      ],
      "metadata": {
        "id": "O2s3sfc-iRvH"
      },
      "execution_count": 26,
      "outputs": []
    },
    {
      "cell_type": "code",
      "source": [
        "hashed_df_text.show(3, truncate=False)"
      ],
      "metadata": {
        "colab": {
          "base_uri": "https://localhost:8080/"
        },
        "id": "A4JgWiZsiePY",
        "outputId": "61939f70-f0cd-4db0-d8ef-d682f3cc2b42"
      },
      "execution_count": 48,
      "outputs": [
        {
          "output_type": "stream",
          "name": "stdout",
          "text": [
            "+-------------------------------------------------------------------------------------------------------------------------------------------------------------------------------------------------------------------------------------------------------------------------------------------------------------------------------------------------------------------------------------------------------------------------------------------------------------------------------------------------------------------------------------------------------------------------------------------------------------------------------------------------------------------------------------------------------------------------------------------------------------------------------------------------------------------------------------------------------------------------------------------------------------------------------------------------------------------------------------------------------------------------------------------------------------------------------------------------------------------------------------------------------------------------------------------------------------------------------------------------------------------------------------------------------------------------------------------------------------------------------------------------------------------------------------------------------------------------------------------------------------------------------------------------------------------------------------------------------------------------------------------------------------------------------------------------------------------------------------------------------------------------------------------------------------------------------------------------------------------------------------------------------------------------------------------------------------------------------------------------------------------------------------------------------------------------------------------------------------------------------------------------------------------------------------------------------------------------------------------------------------------------------------------------------------------------------------------------------------------------------------------------------------------------------------------------------------------------------------------------------------------------------------------------------------------------------------------------------------------------------------------------------------------------------------------------------------------------------------------------------------------------------------------------------------------------------------------------------------------------------------------------------------------------------------------------------------------------------------------------------------------------------------------------------------------------------------------------------------------------------------------------------------------------------------------------------------------------------------------------------------------------------------------------+------------------------------------------------------------------------------------------------------------------------------------------------------------------------------------------------------------------------------------------------+\n",
            "|TextArray                                                                                                                                                                                                                                                                                                                                                                                                                                                                                                                                                                                                                                                                                                                                                                                                                                                                                                                                                                                                                                                                                                                                                                                                                                                                                                                                                                                                                                                                                                                                                                                                                                                                                                                                                                                                                                                                                                                                                                                                                                                                                                                                                                                                                                                                                                                                                                                                                                                                                                                                                                                                                                                                                                                                                                                                                                                                                                                                                                                                                                                                                                                                                                                                                                                                                        |TextHashedValues                                                                                                                                                                                                                                |\n",
            "+-------------------------------------------------------------------------------------------------------------------------------------------------------------------------------------------------------------------------------------------------------------------------------------------------------------------------------------------------------------------------------------------------------------------------------------------------------------------------------------------------------------------------------------------------------------------------------------------------------------------------------------------------------------------------------------------------------------------------------------------------------------------------------------------------------------------------------------------------------------------------------------------------------------------------------------------------------------------------------------------------------------------------------------------------------------------------------------------------------------------------------------------------------------------------------------------------------------------------------------------------------------------------------------------------------------------------------------------------------------------------------------------------------------------------------------------------------------------------------------------------------------------------------------------------------------------------------------------------------------------------------------------------------------------------------------------------------------------------------------------------------------------------------------------------------------------------------------------------------------------------------------------------------------------------------------------------------------------------------------------------------------------------------------------------------------------------------------------------------------------------------------------------------------------------------------------------------------------------------------------------------------------------------------------------------------------------------------------------------------------------------------------------------------------------------------------------------------------------------------------------------------------------------------------------------------------------------------------------------------------------------------------------------------------------------------------------------------------------------------------------------------------------------------------------------------------------------------------------------------------------------------------------------------------------------------------------------------------------------------------------------------------------------------------------------------------------------------------------------------------------------------------------------------------------------------------------------------------------------------------------------------------------------------------------+------------------------------------------------------------------------------------------------------------------------------------------------------------------------------------------------------------------------------------------------+\n",
            "|[donald,  trump,  wish,  americans,  happy,  new,  year,  leave,  instead,  give,  shout,  enemy,  hater,  dishonest,  fake,  news,  medium,  former,  reality,  show,  star,  one,  job,  country,  rapidly,  grow,  strong,  smart,  want,  wish,  friend,  supporter,  enemy,  hater,  even,  dishonest,  fake,  news,  medium,  happy,  healthy,  new,  year,  president,  angry,  pant,  tweet,  2018,  great,  year,  america,  country,  rapidly,  grow,  strong,  smart,  want,  wish,  friend,  supporter,  enemy,  hater,  even,  dishonest,  fake,  news,  medium,  happy,  healthy,  new,  year,  2018,  great,  year,  america,  donald,  j,  trump,  realdonaldtrump,  december,  31,  2017trump,  tweet,  go,  welll,  expect,  kind,  president,  send,  new,  year,  greet,  like,  despicable,  petty,  infantile,  gibberish,  trump,  lack,  decency,  even,  allow,  rise,  gutter,  long,  enough,  wish,  american,  citizen,  happy,  new,  year,  bishop,  talbert,  swan,  talbertswan,  december,  31,  2017no,  one,  like,  calvin,  calvinstowell,  december,  31,  2017your,  impeachment,  would,  make,  2018,  great,  year,  america,  also,  accept,  regain,  control,  congress,  miranda,  yaver,  mirandayaver,  december,  31,  2017do,  hear,  talk,  include,  many,  people,  hate,  wonder,  hate,  alan,  sandoval,  alansandoval13,  december,  31,  2017who,  use,  word,  hater,  new,  year,  wish,  marlene,  marlene399,  december,  31,  2017you,  say,  happy,  new,  year,  koren,  pollitt,  korencarpenter,  december,  31,  2017here,  trump,  new,  year,  eve,  tweet,  2016,  happy,  new,  year,  include,  many,  enemy,  fight,  lose,  badly,  know,  love,  donald,  j,  trump,  realdonaldtrump,  december,  31,  2016this,  nothing,  new,  trump,  year,  trump,  direct,  message,  enemy,  hater,  new,  year,  easter,  thanksgive,  anniversary,  9,  11,  pic,  twitter,  com,  4fpae2kypa,  daniel,  dale,  ddale8,  december,  31,  2017trump,  holiday,  tweet,  clearly,  presidential,  long,  work,  hallmark,  become,  president,  steven,  goodine,  sgoodine,  december,  31,  2017he,  always,  like,  difference,  last,  year,  filter,  breaking,  roy,  schulze,  thbthttt,  december,  31,  2017who,  apart,  teenager,  use,  term,  hater,  wendy,  wendywhistle,  december,  31,  2017he,  fucking,  5,  year,  old,  know,  rainyday80,  december,  31,  2017so,  people,  vote,  hole,  thinking,  would,  change,  get,  power,  wrong,  70,  year,  old,  man,  change,  year,  old,  photo,  andrew,  burton,  getty,  image]                                                                                                                                                                                                                                                                                                                                                                                                                                                                                                                                                                                                                                                                  |(32,[0,1,2,3,4,6,7,8,9,10,11,12,13,14,15,16,17,18,19,20,21,22,23,24,25,26,27,28,29,30,31],[11.0,11.0,16.0,2.0,9.0,5.0,9.0,11.0,27.0,7.0,24.0,21.0,6.0,7.0,8.0,4.0,1.0,12.0,7.0,3.0,1.0,12.0,5.0,6.0,24.0,7.0,16.0,10.0,4.0,5.0,6.0])            |\n",
            "|[house,  intelligence,  committee,  chairman,  devin,  nune,  go,  bad,  day,  assumption,  like,  many,  us,  christopher,  steele,  dossier,  prompt,  russia,  investigation,  lash,  department,  justice,  fbi,  order,  protect,  trump,  happen,  dossier,  start,  investigation,  accord,  document,  obtain,  new,  york,  times,  former,  trump,  campaign,  adviser,  george,  papadopoulos,  drunk,  wine,  bar,  reveal,  knowledge,  russian,  opposition,  research,  hillary,  clinton,  top,  papadopoulos,  covfefe,  boy,  trump,  administration,  allege,  much,  large,  role,  none,  damn,  drunken,  fool,  wine,  bar,  coffee,  boy,  help,  arrange,  new,  york,  meeting,  trump,  president,  abdel,  fattah,  el,  sisi,  egypt,  two,  month,  election,  know,  former,  aide,  set,  meeting,  world,  leader,  trump,  team,  trump,  run,  merely,  coffee,  boy,  may,  2016,  papadopoulo,  reveal,  australian,  diplomat,  alexander,  downer,  russian,  official,  shop,  around,  possible,  dirt,  democratic,  presidential,  nominee,  hillary,  clinton,  exactly,  much,  mr,  papadopoulos,  say,  night,  kensington,  wine,  room,  australian,  alexander,  downer,  unclear,  report,  state,  two,  month,  later,  leak,  democratic,  email,  begin,  appear,  online,  australian,  official,  pass,  information,  mr,  papadopoulos,  american,  counterparts,  accord,  four,  current,  former,  american,  foreign,  official,  direct,  knowledge,  australian,  role,  papadopoulo,  plead,  guilty,  lie,  f,  b,  cooperate,  witness,  special,  counsel,  robert,  mueller,  team,  presidency,  badly,  script,  reality,  tv,  show,  photo,  win,  mcnamee,  getty,  image]                                                                                                                                                                                                                                                                                                                                                                                                                                                                                                                                                                                                                                                                                                                                                                                                                                                                                                                                                                                                                                                                                                                                                                                                                                                                                                                                                                                                                                                                                                                                            |(32,[0,1,2,3,4,5,6,7,8,9,10,11,12,13,14,15,16,17,18,19,20,21,22,23,24,25,26,27,28,29,30,31],[8.0,5.0,7.0,4.0,3.0,4.0,8.0,2.0,9.0,7.0,12.0,4.0,4.0,5.0,5.0,4.0,10.0,11.0,4.0,8.0,2.0,7.0,8.0,3.0,5.0,7.0,3.0,4.0,5.0,6.0,5.0,6.0])               |\n",
            "|[friday,  reveal,  former,  milwaukee,  sheriff,  david,  clarke,  consider,  homeland,  security,  secretary,  donald,  trump,  administration,  email,  scandal,  january,  brief,  run,  plane,  clarke,  fellow,  passenger,  dan,  black,  later,  detain,  police,  reason,  whatsoever,  except,  maybe,  feeling,  hurt,  clarke,  message,  police,  stop,  black,  deplane,  search,  warrant,  execute,  fbi,  see,  exchange,  clarke,  call,  fake,  news,  even,  though,  copy,  search,  warrant,  internet,  unintimidate,  lib,  media,  attempt,  smear,  discredit,  fake,  news,  report,  design,  silence,  former,  sheriff,  tweet,  continue,  poke,  eye,  sharp,  stick,  bitch,  slap,  scum,  bag,  til,  get,  attack,  well,  people,  maga,  unintimidate,  lib,  media,  attempt,  smear,  discredit,  fake,  news,  report,  design,  silence,  continue,  poke,  eye,  sharp,  stick,  bitch,  slap,  scum,  bag,  til,  get,  attack,  well,  people,  maga,  pic,  twitter,  com,  xtzw5pdu2b,  david,  clarke,  jr,  sheriffclarke,  december,  30,  2017he,  stop,  break,  news,  lie,  lib,  medium,  make,  fake,  news,  smear,  antidote,  go,  right,  punch,  nose,  make,  taste,  blood,  nothing,  get,  bully,  like,  lie,  lib,  medium,  attention,  well,  give,  taste,  blood,  neverbackdown,  pic,  twitter,  com,  t2ny2pshcr,  david,  clarke,  jr,  sheriffclarke,  december,  30,  2017the,  internet,  call,  local,  newspaper,  search,  warrant,  fake,  chose,  file,  charge,  time,  mean,  especially,  continue,  lie,  month,  decision,  charge,  clarke,  email,  search,  warrant,  file,  co,  zcbyc4wp5b,  keithleblanc,  keithleblanc63,  december,  30,  2017i,  hope,  rest,  village,  people,  implicate,  kirk,  ketchum,  kirkketchum,  december,  30,  2017slaw,  baked,  potato,  french,  fry,  pic,  twitter,  com,  fwfxszupxy,  alt,  immigration,  alt,  uscis,  december,  30,  2017pic,  twitter,  com,  ymsobljfxu,  pendulum,  swinger,  pendulumswngr,  december,  30,  2017you,  call,  police,  friend,  stand,  someone,  make,  fun,  hat,  chris,  jackson,  chriscjackson,  december,  30,  2017is,  masterful,  pshop,  hat,  seem,  never,  tire,  think,  steely,  resolve,  one,  visible,  eye,  pic,  twitter,  com,  dwr5k8zezv,  chris,  mohney,  chrismohney,  december,  30,  2017are,  indicate,  finger,  many,  people,  die,  jail,  think,  finger,  short,  dipshit,  ike,  barinholtz,  ikebarinholtz,  december,  30,  2017rofl,  internet,  tough,  guy,  fake,  flair,  pic,  twitter,  com,  ulcfddhkdy,  kellmecrazy,  kel,  moonface,  december,  30,  2017you,  edgy,  buddy,  mrs,  smh,  mrssmh2,  december,  30,  2017is,  break,  applebees,  aaron,  feltrrr2,  december,  30,  2017are,  try,  earn,  still,  relevant,  badge,  circusrebel,  circusdrew,  december,  30,  2017make,  sure,  hydrate,  drink,  lot,  water,  rumor,  prisoner,  deny,  water,  prison,  official,  robert,  klinc,  robertklinc1,  december,  30,  2017terrill,  thomas,  38,  year,  old,  black,  man,  die,  thirst,  clarke,  milwaukee,  county,  jail,  cell,  april,  victim,  homicide,  think,  point,  repeat,  enough,  photo,  spencer,  platt,  getty,  image]|(32,[0,1,2,3,4,5,6,7,8,9,10,11,12,13,14,15,16,17,18,19,20,21,22,23,24,25,26,27,28,29,30,31],[11.0,16.0,20.0,11.0,22.0,7.0,2.0,11.0,4.0,13.0,26.0,9.0,6.0,8.0,8.0,7.0,21.0,25.0,3.0,14.0,5.0,16.0,16.0,10.0,15.0,10.0,13.0,12.0,8.0,1.0,9.0,4.0])|\n",
            "+-------------------------------------------------------------------------------------------------------------------------------------------------------------------------------------------------------------------------------------------------------------------------------------------------------------------------------------------------------------------------------------------------------------------------------------------------------------------------------------------------------------------------------------------------------------------------------------------------------------------------------------------------------------------------------------------------------------------------------------------------------------------------------------------------------------------------------------------------------------------------------------------------------------------------------------------------------------------------------------------------------------------------------------------------------------------------------------------------------------------------------------------------------------------------------------------------------------------------------------------------------------------------------------------------------------------------------------------------------------------------------------------------------------------------------------------------------------------------------------------------------------------------------------------------------------------------------------------------------------------------------------------------------------------------------------------------------------------------------------------------------------------------------------------------------------------------------------------------------------------------------------------------------------------------------------------------------------------------------------------------------------------------------------------------------------------------------------------------------------------------------------------------------------------------------------------------------------------------------------------------------------------------------------------------------------------------------------------------------------------------------------------------------------------------------------------------------------------------------------------------------------------------------------------------------------------------------------------------------------------------------------------------------------------------------------------------------------------------------------------------------------------------------------------------------------------------------------------------------------------------------------------------------------------------------------------------------------------------------------------------------------------------------------------------------------------------------------------------------------------------------------------------------------------------------------------------------------------------------------------------------------------------------------------------+------------------------------------------------------------------------------------------------------------------------------------------------------------------------------------------------------------------------------------------------+\n",
            "only showing top 3 rows\n",
            "\n"
          ]
        }
      ]
    },
    {
      "cell_type": "code",
      "source": [
        "# Fit the IDF on the data set \n",
        "idf = IDF(inputCol=\"TitleHashedValues\", outputCol=\"TitleFeatures\")\n",
        "idfModel = idf.fit(hashed_df)\n",
        "rescaledData = idfModel.transform(hashed_df)"
      ],
      "metadata": {
        "id": "Kc0QOqD_-LHj"
      },
      "execution_count": 36,
      "outputs": []
    },
    {
      "cell_type": "code",
      "source": [
        "rescaledData.show(3, truncate=False)"
      ],
      "metadata": {
        "colab": {
          "base_uri": "https://localhost:8080/"
        },
        "id": "cneaizHljY3R",
        "outputId": "b9fa37c3-3920-4f80-bad4-a4df2165a7ff"
      },
      "execution_count": 49,
      "outputs": [
        {
          "output_type": "stream",
          "name": "stdout",
          "text": [
            "+--------------------------------------------------------------------------------------+-------------------------------------------------------------------+-------------------------------------------------------------------------------------------------------------------------------------------------------------------------------------------------+\n",
            "|TitleArray                                                                            |TitleHashedValues                                                  |TitleFeatures                                                                                                                                                                                    |\n",
            "+--------------------------------------------------------------------------------------+-------------------------------------------------------------------+-------------------------------------------------------------------------------------------------------------------------------------------------------------------------------------------------+\n",
            "|[donald,  trump,  send,  embarrassing,  new,  year,  eve,  message,  disturb]         |(32,[4,9,11,13,22,25,28,30],[1.0,1.0,2.0,1.0,1.0,1.0,1.0,1.0])     |(32,[4,9,11,13,22,25,28,30],[1.367088164306076,1.1940501133243215,2.9069693403593346,1.4958485495398155,0.8882601282790287,1.3069029677285087,1.461274294604129,1.453580469384607])              |\n",
            "|[drunk,  bragging,  trump,  staffer,  start,  russian,  collusion,  investigation]    |(32,[0,2,10,14,16,17,22,29],[1.0,1.0,1.0,1.0,1.0,1.0,1.0,1.0])     |(32,[0,2,10,14,16,17,22,29],[1.13646889166475,1.5498491463388981,1.308890546022582,0.9428506540019232,1.4408244658637859,1.4861020775576386,0.8882601282790287,1.2558579046938525])              |\n",
            "|[sheriff,  david,  clarke,  become,  internet,  joke,  threaten,  poke,  people,  eye]|(32,[3,5,6,7,10,13,16,22,24],[1.0,1.0,1.0,1.0,1.0,2.0,1.0,1.0,1.0])|(32,[3,5,6,7,10,13,16,22,24],[1.439595558019,1.222383593119187,1.230321960125719,1.239715315304018,1.308890546022582,2.991697099079631,1.4408244658637859,0.8882601282790287,1.6200860100699612])|\n",
            "+--------------------------------------------------------------------------------------+-------------------------------------------------------------------+-------------------------------------------------------------------------------------------------------------------------------------------------------------------------------------------------+\n",
            "only showing top 3 rows\n",
            "\n"
          ]
        }
      ]
    },
    {
      "cell_type": "code",
      "source": [
        "# Fit the IDF on the data set \n",
        "idf2 = IDF(inputCol=\"TextHashedValues\", outputCol=\"TextFeatures\")\n",
        "idfModel2 = idf2.fit(hashed_df_text)\n",
        "rescaledData2 = idfModel2.transform(hashed_df_text)"
      ],
      "metadata": {
        "id": "mC1as3TP-WzS"
      },
      "execution_count": 39,
      "outputs": []
    },
    {
      "cell_type": "code",
      "source": [
        "rescaledData2.show(3, truncate=False)"
      ],
      "metadata": {
        "colab": {
          "base_uri": "https://localhost:8080/"
        },
        "id": "Xg3hn-BEkfc3",
        "outputId": "b1e39485-9a80-4f10-f66d-08f260b71b7f"
      },
      "execution_count": 50,
      "outputs": [
        {
          "output_type": "stream",
          "name": "stdout",
          "text": [
            "+-------------------------------------------------------------------------------------------------------------------------------------------------------------------------------------------------------------------------------------------------------------------------------------------------------------------------------------------------------------------------------------------------------------------------------------------------------------------------------------------------------------------------------------------------------------------------------------------------------------------------------------------------------------------------------------------------------------------------------------------------------------------------------------------------------------------------------------------------------------------------------------------------------------------------------------------------------------------------------------------------------------------------------------------------------------------------------------------------------------------------------------------------------------------------------------------------------------------------------------------------------------------------------------------------------------------------------------------------------------------------------------------------------------------------------------------------------------------------------------------------------------------------------------------------------------------------------------------------------------------------------------------------------------------------------------------------------------------------------------------------------------------------------------------------------------------------------------------------------------------------------------------------------------------------------------------------------------------------------------------------------------------------------------------------------------------------------------------------------------------------------------------------------------------------------------------------------------------------------------------------------------------------------------------------------------------------------------------------------------------------------------------------------------------------------------------------------------------------------------------------------------------------------------------------------------------------------------------------------------------------------------------------------------------------------------------------------------------------------------------------------------------------------------------------------------------------------------------------------------------------------------------------------------------------------------------------------------------------------------------------------------------------------------------------------------------------------------------------------------------------------------------------------------------------------------------------------------------------------------------------------------------------------------------------+------------------------------------------------------------------------------------------------------------------------------------------------------------------------------------------------------------------------------------------------+--------------------------------------------------------------------------------------------------------------------------------------------------------------------------------------------------------------------------------------------------------------------------------------------------------------------------------------------------------------------------------------------------------------------------------------------------------------------------------------------------------------------------------------------------------------------------------------------------------------------------------------------------------------------------------------------------------------------------------------+\n",
            "|TextArray                                                                                                                                                                                                                                                                                                                                                                                                                                                                                                                                                                                                                                                                                                                                                                                                                                                                                                                                                                                                                                                                                                                                                                                                                                                                                                                                                                                                                                                                                                                                                                                                                                                                                                                                                                                                                                                                                                                                                                                                                                                                                                                                                                                                                                                                                                                                                                                                                                                                                                                                                                                                                                                                                                                                                                                                                                                                                                                                                                                                                                                                                                                                                                                                                                                                                        |TextHashedValues                                                                                                                                                                                                                                |TextFeatures                                                                                                                                                                                                                                                                                                                                                                                                                                                                                                                                                                                                                                                                                                                          |\n",
            "+-------------------------------------------------------------------------------------------------------------------------------------------------------------------------------------------------------------------------------------------------------------------------------------------------------------------------------------------------------------------------------------------------------------------------------------------------------------------------------------------------------------------------------------------------------------------------------------------------------------------------------------------------------------------------------------------------------------------------------------------------------------------------------------------------------------------------------------------------------------------------------------------------------------------------------------------------------------------------------------------------------------------------------------------------------------------------------------------------------------------------------------------------------------------------------------------------------------------------------------------------------------------------------------------------------------------------------------------------------------------------------------------------------------------------------------------------------------------------------------------------------------------------------------------------------------------------------------------------------------------------------------------------------------------------------------------------------------------------------------------------------------------------------------------------------------------------------------------------------------------------------------------------------------------------------------------------------------------------------------------------------------------------------------------------------------------------------------------------------------------------------------------------------------------------------------------------------------------------------------------------------------------------------------------------------------------------------------------------------------------------------------------------------------------------------------------------------------------------------------------------------------------------------------------------------------------------------------------------------------------------------------------------------------------------------------------------------------------------------------------------------------------------------------------------------------------------------------------------------------------------------------------------------------------------------------------------------------------------------------------------------------------------------------------------------------------------------------------------------------------------------------------------------------------------------------------------------------------------------------------------------------------------------------------------+------------------------------------------------------------------------------------------------------------------------------------------------------------------------------------------------------------------------------------------------+--------------------------------------------------------------------------------------------------------------------------------------------------------------------------------------------------------------------------------------------------------------------------------------------------------------------------------------------------------------------------------------------------------------------------------------------------------------------------------------------------------------------------------------------------------------------------------------------------------------------------------------------------------------------------------------------------------------------------------------+\n",
            "|[donald,  trump,  wish,  americans,  happy,  new,  year,  leave,  instead,  give,  shout,  enemy,  hater,  dishonest,  fake,  news,  medium,  former,  reality,  show,  star,  one,  job,  country,  rapidly,  grow,  strong,  smart,  want,  wish,  friend,  supporter,  enemy,  hater,  even,  dishonest,  fake,  news,  medium,  happy,  healthy,  new,  year,  president,  angry,  pant,  tweet,  2018,  great,  year,  america,  country,  rapidly,  grow,  strong,  smart,  want,  wish,  friend,  supporter,  enemy,  hater,  even,  dishonest,  fake,  news,  medium,  happy,  healthy,  new,  year,  2018,  great,  year,  america,  donald,  j,  trump,  realdonaldtrump,  december,  31,  2017trump,  tweet,  go,  welll,  expect,  kind,  president,  send,  new,  year,  greet,  like,  despicable,  petty,  infantile,  gibberish,  trump,  lack,  decency,  even,  allow,  rise,  gutter,  long,  enough,  wish,  american,  citizen,  happy,  new,  year,  bishop,  talbert,  swan,  talbertswan,  december,  31,  2017no,  one,  like,  calvin,  calvinstowell,  december,  31,  2017your,  impeachment,  would,  make,  2018,  great,  year,  america,  also,  accept,  regain,  control,  congress,  miranda,  yaver,  mirandayaver,  december,  31,  2017do,  hear,  talk,  include,  many,  people,  hate,  wonder,  hate,  alan,  sandoval,  alansandoval13,  december,  31,  2017who,  use,  word,  hater,  new,  year,  wish,  marlene,  marlene399,  december,  31,  2017you,  say,  happy,  new,  year,  koren,  pollitt,  korencarpenter,  december,  31,  2017here,  trump,  new,  year,  eve,  tweet,  2016,  happy,  new,  year,  include,  many,  enemy,  fight,  lose,  badly,  know,  love,  donald,  j,  trump,  realdonaldtrump,  december,  31,  2016this,  nothing,  new,  trump,  year,  trump,  direct,  message,  enemy,  hater,  new,  year,  easter,  thanksgive,  anniversary,  9,  11,  pic,  twitter,  com,  4fpae2kypa,  daniel,  dale,  ddale8,  december,  31,  2017trump,  holiday,  tweet,  clearly,  presidential,  long,  work,  hallmark,  become,  president,  steven,  goodine,  sgoodine,  december,  31,  2017he,  always,  like,  difference,  last,  year,  filter,  breaking,  roy,  schulze,  thbthttt,  december,  31,  2017who,  apart,  teenager,  use,  term,  hater,  wendy,  wendywhistle,  december,  31,  2017he,  fucking,  5,  year,  old,  know,  rainyday80,  december,  31,  2017so,  people,  vote,  hole,  thinking,  would,  change,  get,  power,  wrong,  70,  year,  old,  man,  change,  year,  old,  photo,  andrew,  burton,  getty,  image]                                                                                                                                                                                                                                                                                                                                                                                                                                                                                                                                                                                                                                                                  |(32,[0,1,2,3,4,6,7,8,9,10,11,12,13,14,15,16,17,18,19,20,21,22,23,24,25,26,27,28,29,30,31],[11.0,11.0,16.0,2.0,9.0,5.0,9.0,11.0,27.0,7.0,24.0,21.0,6.0,7.0,8.0,4.0,1.0,12.0,7.0,3.0,1.0,12.0,5.0,6.0,24.0,7.0,16.0,10.0,4.0,5.0,6.0])            |(32,[0,1,2,3,4,6,7,8,9,10,11,12,13,14,15,16,17,18,19,20,21,22,23,24,25,26,27,28,29,30,31],[0.9004395327074947,1.0541526488277797,1.2248000172498374,0.16041386424788048,0.6815558472921482,0.22592946071779474,0.7340989647598173,0.7995860896048691,1.717964398483895,0.45793774006205085,1.7445514682288052,1.790592152666379,0.6268211521415685,0.6625487536914889,0.8127262226512363,0.31132814811907067,0.0992635256607195,0.9604453150569807,0.7184265696513232,0.282103879836027,0.08922456531086242,0.4699176920139339,0.41646508414133254,0.6162408471410564,1.957014156063607,0.6780736491631075,1.740079801250961,0.5212097724128287,0.2787363037527163,0.5466467430866813,0.8122155457977359])                            |\n",
            "|[house,  intelligence,  committee,  chairman,  devin,  nune,  go,  bad,  day,  assumption,  like,  many,  us,  christopher,  steele,  dossier,  prompt,  russia,  investigation,  lash,  department,  justice,  fbi,  order,  protect,  trump,  happen,  dossier,  start,  investigation,  accord,  document,  obtain,  new,  york,  times,  former,  trump,  campaign,  adviser,  george,  papadopoulos,  drunk,  wine,  bar,  reveal,  knowledge,  russian,  opposition,  research,  hillary,  clinton,  top,  papadopoulos,  covfefe,  boy,  trump,  administration,  allege,  much,  large,  role,  none,  damn,  drunken,  fool,  wine,  bar,  coffee,  boy,  help,  arrange,  new,  york,  meeting,  trump,  president,  abdel,  fattah,  el,  sisi,  egypt,  two,  month,  election,  know,  former,  aide,  set,  meeting,  world,  leader,  trump,  team,  trump,  run,  merely,  coffee,  boy,  may,  2016,  papadopoulo,  reveal,  australian,  diplomat,  alexander,  downer,  russian,  official,  shop,  around,  possible,  dirt,  democratic,  presidential,  nominee,  hillary,  clinton,  exactly,  much,  mr,  papadopoulos,  say,  night,  kensington,  wine,  room,  australian,  alexander,  downer,  unclear,  report,  state,  two,  month,  later,  leak,  democratic,  email,  begin,  appear,  online,  australian,  official,  pass,  information,  mr,  papadopoulos,  american,  counterparts,  accord,  four,  current,  former,  american,  foreign,  official,  direct,  knowledge,  australian,  role,  papadopoulo,  plead,  guilty,  lie,  f,  b,  cooperate,  witness,  special,  counsel,  robert,  mueller,  team,  presidency,  badly,  script,  reality,  tv,  show,  photo,  win,  mcnamee,  getty,  image]                                                                                                                                                                                                                                                                                                                                                                                                                                                                                                                                                                                                                                                                                                                                                                                                                                                                                                                                                                                                                                                                                                                                                                                                                                                                                                                                                                                                                                                                                                                                            |(32,[0,1,2,3,4,5,6,7,8,9,10,11,12,13,14,15,16,17,18,19,20,21,22,23,24,25,26,27,28,29,30,31],[8.0,5.0,7.0,4.0,3.0,4.0,8.0,2.0,9.0,7.0,12.0,4.0,4.0,5.0,5.0,4.0,10.0,11.0,4.0,8.0,2.0,7.0,8.0,3.0,5.0,7.0,3.0,4.0,5.0,6.0,5.0,6.0])               |(32,[0,1,2,3,4,5,6,7,8,9,10,11,12,13,14,15,16,17,18,19,20,21,22,23,24,25,26,27,28,29,30,31],[0.6548651146963598,0.479160294921718,0.5358500075468039,0.32082772849576097,0.2271852824307161,0.27211545376498064,0.3614871371484716,0.1631331032799594,0.6542068005858019,0.4453981773847135,0.7850361258206586,0.2907585780381342,0.34106517193645314,0.5223509601179738,0.4732491097796349,0.40636311132561814,0.7783203702976766,1.0918987822679145,0.3201484383523269,0.8210589367443695,0.18806925322401802,0.624571957176037,0.3132784613426226,0.24987905048479953,0.5135340392842137,0.5707957955185521,0.29060299249847465,0.43501995031274027,0.26060488620641437,0.41810445562907445,0.5466467430866813,0.8122155457977359])|\n",
            "|[friday,  reveal,  former,  milwaukee,  sheriff,  david,  clarke,  consider,  homeland,  security,  secretary,  donald,  trump,  administration,  email,  scandal,  january,  brief,  run,  plane,  clarke,  fellow,  passenger,  dan,  black,  later,  detain,  police,  reason,  whatsoever,  except,  maybe,  feeling,  hurt,  clarke,  message,  police,  stop,  black,  deplane,  search,  warrant,  execute,  fbi,  see,  exchange,  clarke,  call,  fake,  news,  even,  though,  copy,  search,  warrant,  internet,  unintimidate,  lib,  media,  attempt,  smear,  discredit,  fake,  news,  report,  design,  silence,  former,  sheriff,  tweet,  continue,  poke,  eye,  sharp,  stick,  bitch,  slap,  scum,  bag,  til,  get,  attack,  well,  people,  maga,  unintimidate,  lib,  media,  attempt,  smear,  discredit,  fake,  news,  report,  design,  silence,  continue,  poke,  eye,  sharp,  stick,  bitch,  slap,  scum,  bag,  til,  get,  attack,  well,  people,  maga,  pic,  twitter,  com,  xtzw5pdu2b,  david,  clarke,  jr,  sheriffclarke,  december,  30,  2017he,  stop,  break,  news,  lie,  lib,  medium,  make,  fake,  news,  smear,  antidote,  go,  right,  punch,  nose,  make,  taste,  blood,  nothing,  get,  bully,  like,  lie,  lib,  medium,  attention,  well,  give,  taste,  blood,  neverbackdown,  pic,  twitter,  com,  t2ny2pshcr,  david,  clarke,  jr,  sheriffclarke,  december,  30,  2017the,  internet,  call,  local,  newspaper,  search,  warrant,  fake,  chose,  file,  charge,  time,  mean,  especially,  continue,  lie,  month,  decision,  charge,  clarke,  email,  search,  warrant,  file,  co,  zcbyc4wp5b,  keithleblanc,  keithleblanc63,  december,  30,  2017i,  hope,  rest,  village,  people,  implicate,  kirk,  ketchum,  kirkketchum,  december,  30,  2017slaw,  baked,  potato,  french,  fry,  pic,  twitter,  com,  fwfxszupxy,  alt,  immigration,  alt,  uscis,  december,  30,  2017pic,  twitter,  com,  ymsobljfxu,  pendulum,  swinger,  pendulumswngr,  december,  30,  2017you,  call,  police,  friend,  stand,  someone,  make,  fun,  hat,  chris,  jackson,  chriscjackson,  december,  30,  2017is,  masterful,  pshop,  hat,  seem,  never,  tire,  think,  steely,  resolve,  one,  visible,  eye,  pic,  twitter,  com,  dwr5k8zezv,  chris,  mohney,  chrismohney,  december,  30,  2017are,  indicate,  finger,  many,  people,  die,  jail,  think,  finger,  short,  dipshit,  ike,  barinholtz,  ikebarinholtz,  december,  30,  2017rofl,  internet,  tough,  guy,  fake,  flair,  pic,  twitter,  com,  ulcfddhkdy,  kellmecrazy,  kel,  moonface,  december,  30,  2017you,  edgy,  buddy,  mrs,  smh,  mrssmh2,  december,  30,  2017is,  break,  applebees,  aaron,  feltrrr2,  december,  30,  2017are,  try,  earn,  still,  relevant,  badge,  circusrebel,  circusdrew,  december,  30,  2017make,  sure,  hydrate,  drink,  lot,  water,  rumor,  prisoner,  deny,  water,  prison,  official,  robert,  klinc,  robertklinc1,  december,  30,  2017terrill,  thomas,  38,  year,  old,  black,  man,  die,  thirst,  clarke,  milwaukee,  county,  jail,  cell,  april,  victim,  homicide,  think,  point,  repeat,  enough,  photo,  spencer,  platt,  getty,  image]|(32,[0,1,2,3,4,5,6,7,8,9,10,11,12,13,14,15,16,17,18,19,20,21,22,23,24,25,26,27,28,29,30,31],[11.0,16.0,20.0,11.0,22.0,7.0,2.0,11.0,4.0,13.0,26.0,9.0,6.0,8.0,8.0,7.0,21.0,25.0,3.0,14.0,5.0,16.0,16.0,10.0,15.0,10.0,13.0,12.0,8.0,1.0,9.0,4.0])|(32,[0,1,2,3,4,5,6,7,8,9,10,11,12,13,14,15,16,17,18,19,20,21,22,23,24,25,26,27,28,29,30,31],[0.9004395327074947,1.5333129437494977,1.5310000215622968,0.8822762533633427,1.666025404491918,0.47620204408871614,0.0903717842871179,0.8972320680397766,0.2907585780381342,0.827168043714468,1.7009116059447602,0.6542068005858019,0.5115977579046798,0.835761536188758,0.7571985756474159,0.7111354448198317,1.634472777625121,2.4815881415179875,0.24011132876424518,1.4368531393026465,0.47017313306004505,1.4275930449737988,0.6265569226852452,0.8329301682826651,1.540602117852641,0.8154225650265029,1.2592796341600567,1.3050598509382207,0.416967817930263,0.06968407593817907,0.9839641375560262,0.5414770305318239])          |\n",
            "+-------------------------------------------------------------------------------------------------------------------------------------------------------------------------------------------------------------------------------------------------------------------------------------------------------------------------------------------------------------------------------------------------------------------------------------------------------------------------------------------------------------------------------------------------------------------------------------------------------------------------------------------------------------------------------------------------------------------------------------------------------------------------------------------------------------------------------------------------------------------------------------------------------------------------------------------------------------------------------------------------------------------------------------------------------------------------------------------------------------------------------------------------------------------------------------------------------------------------------------------------------------------------------------------------------------------------------------------------------------------------------------------------------------------------------------------------------------------------------------------------------------------------------------------------------------------------------------------------------------------------------------------------------------------------------------------------------------------------------------------------------------------------------------------------------------------------------------------------------------------------------------------------------------------------------------------------------------------------------------------------------------------------------------------------------------------------------------------------------------------------------------------------------------------------------------------------------------------------------------------------------------------------------------------------------------------------------------------------------------------------------------------------------------------------------------------------------------------------------------------------------------------------------------------------------------------------------------------------------------------------------------------------------------------------------------------------------------------------------------------------------------------------------------------------------------------------------------------------------------------------------------------------------------------------------------------------------------------------------------------------------------------------------------------------------------------------------------------------------------------------------------------------------------------------------------------------------------------------------------------------------------------------------------------------+------------------------------------------------------------------------------------------------------------------------------------------------------------------------------------------------------------------------------------------------+--------------------------------------------------------------------------------------------------------------------------------------------------------------------------------------------------------------------------------------------------------------------------------------------------------------------------------------------------------------------------------------------------------------------------------------------------------------------------------------------------------------------------------------------------------------------------------------------------------------------------------------------------------------------------------------------------------------------------------------+\n",
            "only showing top 3 rows\n",
            "\n"
          ]
        }
      ]
    }
  ]
}