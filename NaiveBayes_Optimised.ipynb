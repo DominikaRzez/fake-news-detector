{
  "nbformat": 4,
  "nbformat_minor": 0,
  "metadata": {
    "colab": {
      "name": "NaiveBayes_Optimised.ipynb",
      "provenance": []
    },
    "kernelspec": {
      "name": "python3",
      "display_name": "Python 3"
    },
    "language_info": {
      "name": "python"
    }
  },
  "cells": [
    {
      "cell_type": "code",
      "execution_count": null,
      "metadata": {
        "colab": {
          "base_uri": "https://localhost:8080/"
        },
        "id": "TCV1kawUIzto",
        "outputId": "907026f0-1db9-407f-e29d-7b4f7be4ac84"
      },
      "outputs": [
        {
          "output_type": "stream",
          "name": "stdout",
          "text": [
            "\r0% [Working]\r            \rHit:1 http://archive.ubuntu.com/ubuntu bionic InRelease\n",
            "\r0% [Waiting for headers] [Connecting to security.ubuntu.com (185.125.190.36)] [\r                                                                               \rGet:2 http://archive.ubuntu.com/ubuntu bionic-updates InRelease [88.7 kB]\n",
            "\r                                                                               \rGet:3 https://cloud.r-project.org/bin/linux/ubuntu bionic-cran40/ InRelease [3,626 B]\n",
            "\r                                                                               \rHit:4 https://developer.download.nvidia.com/compute/cuda/repos/ubuntu1804/x86_64  InRelease\n",
            "Get:5 http://archive.ubuntu.com/ubuntu bionic-backports InRelease [74.6 kB]\n",
            "Ign:6 https://developer.download.nvidia.com/compute/machine-learning/repos/ubuntu1804/x86_64  InRelease\n",
            "Hit:7 https://developer.download.nvidia.com/compute/machine-learning/repos/ubuntu1804/x86_64  Release\n",
            "Get:8 http://security.ubuntu.com/ubuntu bionic-security InRelease [88.7 kB]\n",
            "Get:9 http://ppa.launchpad.net/c2d4u.team/c2d4u4.0+/ubuntu bionic InRelease [15.9 kB]\n",
            "Hit:10 http://ppa.launchpad.net/cran/libgit2/ubuntu bionic InRelease\n",
            "Hit:11 http://ppa.launchpad.net/deadsnakes/ppa/ubuntu bionic InRelease\n",
            "Hit:12 http://ppa.launchpad.net/graphics-drivers/ppa/ubuntu bionic InRelease\n",
            "Get:13 http://archive.ubuntu.com/ubuntu bionic-updates/universe amd64 Packages [2,272 kB]\n",
            "Get:14 http://archive.ubuntu.com/ubuntu bionic-updates/main amd64 Packages [3,168 kB]\n",
            "Get:16 http://ppa.launchpad.net/c2d4u.team/c2d4u4.0+/ubuntu bionic/main Sources [1,954 kB]\n",
            "Get:17 http://security.ubuntu.com/ubuntu bionic-security/universe amd64 Packages [1,498 kB]\n",
            "Get:18 http://security.ubuntu.com/ubuntu bionic-security/main amd64 Packages [2,734 kB]\n",
            "Get:19 http://ppa.launchpad.net/c2d4u.team/c2d4u4.0+/ubuntu bionic/main amd64 Packages [1,001 kB]\n",
            "Fetched 12.9 MB in 3s (3,686 kB/s)\n",
            "Reading package lists... Done\n"
          ]
        }
      ],
      "source": [
        "import os\n",
        "# Find the latest version of spark 3.0  from http://www.apache.org/dist/spark/ and enter as the spark version\n",
        "# For example:\n",
        "# spark_version = 'spark-3.0.3'\n",
        "spark_version = 'spark-3.2.1'\n",
        "os.environ['SPARK_VERSION']=spark_version\n",
        "\n",
        "# Install Spark and Java\n",
        "!apt-get update\n",
        "!apt-get install openjdk-8-jdk-headless -qq > /dev/null\n",
        "!wget -q http://www.apache.org/dist/spark/$SPARK_VERSION/$SPARK_VERSION-bin-hadoop2.7.tgz\n",
        "!tar xf $SPARK_VERSION-bin-hadoop2.7.tgz\n",
        "!pip install -q findspark\n",
        "\n",
        "# Set Environment Variables\n",
        "os.environ[\"JAVA_HOME\"] = \"/usr/lib/jvm/java-8-openjdk-amd64\"\n",
        "os.environ[\"SPARK_HOME\"] = f\"/content/{spark_version}-bin-hadoop2.7\"\n",
        "\n",
        "# Start a SparkSession\n",
        "import findspark\n",
        "findspark.init()"
      ]
    },
    {
      "cell_type": "code",
      "source": [
        "# Start Spark session\n",
        "from pyspark.sql import SparkSession\n",
        "spark = SparkSession.builder.appName(\"Hashing\").getOrCreate()"
      ],
      "metadata": {
        "id": "iJkuSGTvI0da"
      },
      "execution_count": null,
      "outputs": []
    },
    {
      "cell_type": "code",
      "source": [
        " from pyspark.ml.feature import HashingTF, IDF, Tokenizer"
      ],
      "metadata": {
        "id": "pASqZl2HJbxY"
      },
      "execution_count": null,
      "outputs": []
    },
    {
      "cell_type": "code",
      "source": [
        "# Read in CSV\n",
        "from pyspark import SparkFiles\n",
        "df = spark.read.csv(SparkFiles.get(\"/content/dataset.csv\"),sep=\",\", escape='\"', encoding=\"utf-8\", quote='\"',  header=True)\n",
        "df.show(5)"
      ],
      "metadata": {
        "colab": {
          "base_uri": "https://localhost:8080/"
        },
        "id": "S7-m1-eXJdeH",
        "outputId": "570352c9-2db4-47ec-c2f8-66f1888b3e3c"
      },
      "execution_count": null,
      "outputs": [
        {
          "output_type": "stream",
          "name": "stdout",
          "text": [
            "+--------------------+-----+\n",
            "|                text|label|\n",
            "+--------------------+-----+\n",
            "|founding father w...|    1|\n",
            "|wow bravo tomi re...|    1|\n",
            "|karma bitch way a...|    1|\n",
            "|washington reuter...|    0|\n",
            "|may president tru...|    1|\n",
            "+--------------------+-----+\n",
            "only showing top 5 rows\n",
            "\n"
          ]
        }
      ]
    },
    {
      "cell_type": "code",
      "source": [
        "from pyspark.sql.types import IntegerType\n",
        "df = df.withColumn(\"label\", df[\"label\"].cast(IntegerType()))"
      ],
      "metadata": {
        "id": "fvptZuDXK0bt"
      },
      "execution_count": null,
      "outputs": []
    },
    {
      "cell_type": "code",
      "source": [
        "from pyspark.sql.functions import length\n",
        "# Create a length column to be used as a future feature \n",
        "df = df.withColumn('length', length(df['text']))\n",
        "df.show(3)"
      ],
      "metadata": {
        "colab": {
          "base_uri": "https://localhost:8080/"
        },
        "id": "n-ZfI4swJhXF",
        "outputId": "8826757d-7e6a-40e2-b091-f446ef2c9589"
      },
      "execution_count": null,
      "outputs": [
        {
          "output_type": "stream",
          "name": "stdout",
          "text": [
            "+--------------------+-----+------+\n",
            "|                text|label|length|\n",
            "+--------------------+-----+------+\n",
            "|founding father w...|    1|  3299|\n",
            "|wow bravo tomi re...|    1|   208|\n",
            "|karma bitch way a...|    1|   147|\n",
            "+--------------------+-----+------+\n",
            "only showing top 3 rows\n",
            "\n"
          ]
        }
      ]
    },
    {
      "cell_type": "code",
      "source": [
        "from pyspark.ml.feature import Tokenizer, StopWordsRemover, HashingTF, IDF, StringIndexer\n",
        "# Create all the features to the data set\n",
        "tokenizer = Tokenizer(inputCol=\"text\", outputCol=\"token_text\")\n",
        "stopremove = StopWordsRemover(inputCol='token_text',outputCol='stop_tokens')\n",
        "hashingTF = HashingTF(inputCol=\"stop_tokens\", outputCol='hash_token')\n",
        "idf = IDF(inputCol='hash_token', outputCol='idf_token')"
      ],
      "metadata": {
        "id": "TiTaF-l-Jo7G"
      },
      "execution_count": null,
      "outputs": []
    },
    {
      "cell_type": "code",
      "source": [
        "from pyspark.ml.feature import VectorAssembler\n",
        "from pyspark.ml.linalg import Vector\n",
        "\n",
        "# Create feature vectors\n",
        "clean_up = VectorAssembler(inputCols=['idf_token', 'length'], outputCol='features')"
      ],
      "metadata": {
        "id": "MTtuAbX7KKrv"
      },
      "execution_count": null,
      "outputs": []
    },
    {
      "cell_type": "code",
      "source": [
        " # Create a and run a data processing Pipeline\n",
        "from pyspark.ml import Pipeline\n",
        "data_prep_pipeline = Pipeline(stages=[tokenizer, stopremove, hashingTF, idf, clean_up])"
      ],
      "metadata": {
        "id": "-Mk3d0Y0KOKV"
      },
      "execution_count": null,
      "outputs": []
    },
    {
      "cell_type": "code",
      "source": [
        " # Fit and transform the pipeline\n",
        "cleaner = data_prep_pipeline.fit(df)\n",
        "cleaned = cleaner.transform(df)"
      ],
      "metadata": {
        "id": "Ae47f0XvKRGs"
      },
      "execution_count": null,
      "outputs": []
    },
    {
      "cell_type": "code",
      "source": [
        " # Show label and resulting features\n",
        "cleaned.select(['label', 'features']).show()"
      ],
      "metadata": {
        "colab": {
          "base_uri": "https://localhost:8080/"
        },
        "id": "xElQrKSlKVWd",
        "outputId": "2cd9c1c6-00c7-4688-ab95-c1cf012baebb"
      },
      "execution_count": null,
      "outputs": [
        {
          "output_type": "stream",
          "name": "stdout",
          "text": [
            "+-----+--------------------+\n",
            "|label|            features|\n",
            "+-----+--------------------+\n",
            "|    1|(262145,[991,2220...|\n",
            "|    1|(262145,[1696,270...|\n",
            "|    1|(262145,[531,1512...|\n",
            "|    0|(262145,[3775,538...|\n",
            "|    1|(262145,[2504,892...|\n",
            "|    1|(262145,[1880,383...|\n",
            "|    0|(262145,[2306,243...|\n",
            "|    1|(262145,[2731,392...|\n",
            "|    1|(262145,[5381,634...|\n",
            "|    0|(262145,[1968,236...|\n",
            "|    1|(262145,[378,2325...|\n",
            "|    1|(262145,[3834,538...|\n",
            "|    1|(262145,[1971,659...|\n",
            "|    0|(262145,[1303,538...|\n",
            "|    1|(262145,[11391,13...|\n",
            "|    0|(262145,[3775,522...|\n",
            "|    0|(262145,[4409,649...|\n",
            "|    0|(262145,[14875,15...|\n",
            "|    1|(262145,[2437,611...|\n",
            "|    1|(262145,[619,1696...|\n",
            "+-----+--------------------+\n",
            "only showing top 20 rows\n",
            "\n"
          ]
        }
      ]
    },
    {
      "cell_type": "code",
      "source": [
        "from pyspark.ml.classification import NaiveBayes\n",
        "# Break data down into a training set and a testing set\n",
        "training, testing = cleaned.randomSplit([0.7, 0.3])\n",
        "\n",
        "# Create a Naive Bayes model and fit training data\n",
        "nb = NaiveBayes()\n",
        "predictor = nb.fit(training)"
      ],
      "metadata": {
        "id": "93VvrqQnKqYd"
      },
      "execution_count": null,
      "outputs": []
    },
    {
      "cell_type": "code",
      "source": [
        "# Tranform the model with the testing data\n",
        "test_results = predictor.transform(testing)\n",
        "test_results.show(5)"
      ],
      "metadata": {
        "colab": {
          "base_uri": "https://localhost:8080/"
        },
        "id": "GvyDYvslKte9",
        "outputId": "e67e6bb1-3b3b-45f8-f104-3867753a67b1"
      },
      "execution_count": null,
      "outputs": [
        {
          "output_type": "stream",
          "name": "stdout",
          "text": [
            "+--------------------+-----+------+--------------------+--------------------+--------------------+--------------------+--------------------+--------------------+--------------------+----------+\n",
            "|                text|label|length|          token_text|         stop_tokens|          hash_token|           idf_token|            features|       rawPrediction|         probability|prediction|\n",
            "+--------------------+-----+------+--------------------+--------------------+--------------------+--------------------+--------------------+--------------------+--------------------+----------+\n",
            "|abc announced dev...|    1|   923|[abc, announced, ...|[abc, announced, ...|(262144,[3834,407...|(262144,[3834,407...|(262145,[3834,407...|[-5748.2826101435...|[9.44091033354833...|       1.0|\n",
            "|abidjan reuters f...|    0|   346|[abidjan, reuters...|[abidjan, reuters...|(262144,[3282,597...|(262144,[3282,597...|(262145,[3282,597...|[-2188.5674556179...|[1.0,2.1385350942...|       0.0|\n",
            "|abidjan reuters h...|    0|  1328|[abidjan, reuters...|[abidjan, reuters...|(262144,[2366,273...|(262144,[2366,273...|(262145,[2366,273...|[-8055.9554506814...|[1.0,7.2697309679...|       0.0|\n",
            "|abidjan reuters i...|    0|  1516|[abidjan, reuters...|[abidjan, reuters...|(262144,[1968,230...|(262144,[1968,230...|(262145,[1968,230...|[-8274.9460051862...|[1.0,3.3721273159...|       0.0|\n",
            "|abidjan reuters p...|    0|  1579|[abidjan, reuters...|[abidjan, reuters...|(262144,[1889,230...|(262144,[1889,230...|(262145,[1889,230...|[-12407.515240914...|[1.0,2.2789773433...|       0.0|\n",
            "+--------------------+-----+------+--------------------+--------------------+--------------------+--------------------+--------------------+--------------------+--------------------+----------+\n",
            "only showing top 5 rows\n",
            "\n"
          ]
        }
      ]
    },
    {
      "cell_type": "code",
      "source": [
        " # Tranform the model with the testing data\n",
        "train_results = predictor.transform(training)\n",
        "train_results.show(5)"
      ],
      "metadata": {
        "colab": {
          "base_uri": "https://localhost:8080/"
        },
        "id": "UDiXKGW380Dx",
        "outputId": "78936279-b686-4afc-bc97-df350e424dd6"
      },
      "execution_count": null,
      "outputs": [
        {
          "output_type": "stream",
          "name": "stdout",
          "text": [
            "+--------------------+-----+------+--------------------+--------------------+--------------------+--------------------+--------------------+--------------------+--------------------+----------+\n",
            "|                text|label|length|          token_text|         stop_tokens|          hash_token|           idf_token|            features|       rawPrediction|         probability|prediction|\n",
            "+--------------------+-----+------+--------------------+--------------------+--------------------+--------------------+--------------------+--------------------+--------------------+----------+\n",
            "|abc announced dev...|    1|   923|[abc, announced, ...|[abc, announced, ...|(262144,[3834,407...|(262144,[3834,407...|(262145,[3834,407...|[-5748.2826101435...|[9.44091033354833...|       1.0|\n",
            "|abc cancelled tim...|    1|  2457|[abc, cancelled, ...|[abc, cancelled, ...|(262144,[1696,232...|(262144,[1696,232...|(262145,[1696,232...|[-14338.729321783...|           [0.0,1.0]|       1.0|\n",
            "|abc cancelled tim...|    1|  2457|[abc, cancelled, ...|[abc, cancelled, ...|(262144,[1696,232...|(262144,[1696,232...|(262145,[1696,232...|[-14338.729321783...|           [0.0,1.0]|       1.0|\n",
            "|abc host george s...|    1|  1347|[abc, host, georg...|[abc, host, georg...|(262144,[1398,538...|(262144,[1398,538...|(262145,[1398,538...|[-6083.7097730065...|[4.26820581427075...|       1.0|\n",
            "|abc host martha r...|    1|  2716|[abc, host, marth...|[abc, host, marth...|(262144,[2249,421...|(262144,[2249,421...|(262145,[2249,421...|[-13449.783229519...|[4.6171477747E-31...|       1.0|\n",
            "+--------------------+-----+------+--------------------+--------------------+--------------------+--------------------+--------------------+--------------------+--------------------+----------+\n",
            "only showing top 5 rows\n",
            "\n"
          ]
        }
      ]
    },
    {
      "cell_type": "code",
      "source": [
        " # Use the Class Evaluator for a cleaner description\n",
        "from pyspark.ml.evaluation import MulticlassClassificationEvaluator\n",
        "\n",
        "acc_eval = MulticlassClassificationEvaluator()\n",
        "acc = acc_eval.evaluate(test_results)\n",
        "print(\"Accuracy of model at predicting fake news was: %f\" % acc)"
      ],
      "metadata": {
        "colab": {
          "base_uri": "https://localhost:8080/"
        },
        "id": "nQ4E95LMLKlu",
        "outputId": "92198b92-f26a-47ad-d3f3-e906719397a5"
      },
      "execution_count": null,
      "outputs": [
        {
          "output_type": "stream",
          "name": "stdout",
          "text": [
            "Accuracy of model at predicting fake news was: 0.940584\n"
          ]
        }
      ]
    },
    {
      "cell_type": "code",
      "source": [
        "train_eval = MulticlassClassificationEvaluator()\n",
        "train = acc_eval.evaluate(train_results)\n",
        "print(\"Accuracy of model at predicting fake news was: %f\" % train)"
      ],
      "metadata": {
        "colab": {
          "base_uri": "https://localhost:8080/"
        },
        "id": "1GAgqunf8twv",
        "outputId": "a4d9d86a-a646-48f3-ee35-aed2e76a7da3"
      },
      "execution_count": null,
      "outputs": [
        {
          "output_type": "stream",
          "name": "stdout",
          "text": [
            "Accuracy of model at predicting fake news was: 0.963500\n"
          ]
        }
      ]
    },
    {
      "cell_type": "code",
      "source": [
        "f1_eval = MulticlassClassificationEvaluator(metricName='f1')\n",
        "f1 = f1_eval.evaluate(test_results)\n",
        "print(\"F1 score of model at predicting fake news was: %f\" % f1)"
      ],
      "metadata": {
        "colab": {
          "base_uri": "https://localhost:8080/"
        },
        "id": "zCy99Jb68yoC",
        "outputId": "bd7ca759-f687-40db-dabb-1e97dc4d9e7a"
      },
      "execution_count": null,
      "outputs": [
        {
          "output_type": "stream",
          "name": "stdout",
          "text": [
            "F1 score of model at predicting fake news was: 0.940584\n"
          ]
        }
      ]
    }
  ]
}