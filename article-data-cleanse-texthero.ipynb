{
 "cells": [
  {
   "cell_type": "markdown",
   "id": "108bc80d",
   "metadata": {},
   "source": [
    "# Data Cleaning"
   ]
  },
  {
   "cell_type": "code",
   "execution_count": 1,
   "id": "e7039ed2",
   "metadata": {},
   "outputs": [
    {
     "ename": "ModuleNotFoundError",
     "evalue": "No module named 'texthero'",
     "output_type": "error",
     "traceback": [
      "\u001b[1;31m---------------------------------------------------------------------------\u001b[0m",
      "\u001b[1;31mModuleNotFoundError\u001b[0m                       Traceback (most recent call last)",
      "\u001b[1;32m<ipython-input-1-5305104fe129>\u001b[0m in \u001b[0;36m<module>\u001b[1;34m\u001b[0m\n\u001b[0;32m      1\u001b[0m \u001b[1;31m# pip install text hero\u001b[0m\u001b[1;33m\u001b[0m\u001b[1;33m\u001b[0m\u001b[1;33m\u001b[0m\u001b[0m\n\u001b[0;32m      2\u001b[0m \u001b[1;32mimport\u001b[0m \u001b[0mpandas\u001b[0m \u001b[1;32mas\u001b[0m \u001b[0mpd\u001b[0m\u001b[1;33m\u001b[0m\u001b[1;33m\u001b[0m\u001b[0m\n\u001b[1;32m----> 3\u001b[1;33m \u001b[1;32mimport\u001b[0m \u001b[0mtexthero\u001b[0m \u001b[1;32mas\u001b[0m \u001b[0mhero\u001b[0m\u001b[1;33m\u001b[0m\u001b[1;33m\u001b[0m\u001b[0m\n\u001b[0m",
      "\u001b[1;31mModuleNotFoundError\u001b[0m: No module named 'texthero'"
     ]
    }
   ],
   "source": [
    "# pip install text hero\n",
    "import pandas as pd\n",
    "import texthero as hero"
   ]
  },
  {
   "cell_type": "code",
   "execution_count": 2,
   "id": "f45631a7",
   "metadata": {},
   "outputs": [],
   "source": [
    "# Load Datasets\n",
    "fake_df = pd.read_csv('resources/fake.csv')\n",
    "real_df = pd.read_csv('resources/true.csv')"
   ]
  },
  {
   "cell_type": "code",
   "execution_count": 3,
   "id": "26589db6",
   "metadata": {},
   "outputs": [
    {
     "data": {
      "text/html": [
       "<div>\n",
       "<style scoped>\n",
       "    .dataframe tbody tr th:only-of-type {\n",
       "        vertical-align: middle;\n",
       "    }\n",
       "\n",
       "    .dataframe tbody tr th {\n",
       "        vertical-align: top;\n",
       "    }\n",
       "\n",
       "    .dataframe thead th {\n",
       "        text-align: right;\n",
       "    }\n",
       "</style>\n",
       "<table border=\"1\" class=\"dataframe\">\n",
       "  <thead>\n",
       "    <tr style=\"text-align: right;\">\n",
       "      <th></th>\n",
       "      <th>title</th>\n",
       "      <th>text</th>\n",
       "      <th>subject</th>\n",
       "      <th>date</th>\n",
       "    </tr>\n",
       "  </thead>\n",
       "  <tbody>\n",
       "    <tr>\n",
       "      <th>0</th>\n",
       "      <td>Donald Trump Sends Out Embarrassing New Year’...</td>\n",
       "      <td>Donald Trump just couldn t wish all Americans ...</td>\n",
       "      <td>News</td>\n",
       "      <td>December 31, 2017</td>\n",
       "    </tr>\n",
       "    <tr>\n",
       "      <th>1</th>\n",
       "      <td>Drunk Bragging Trump Staffer Started Russian ...</td>\n",
       "      <td>House Intelligence Committee Chairman Devin Nu...</td>\n",
       "      <td>News</td>\n",
       "      <td>December 31, 2017</td>\n",
       "    </tr>\n",
       "    <tr>\n",
       "      <th>2</th>\n",
       "      <td>Sheriff David Clarke Becomes An Internet Joke...</td>\n",
       "      <td>On Friday, it was revealed that former Milwauk...</td>\n",
       "      <td>News</td>\n",
       "      <td>December 30, 2017</td>\n",
       "    </tr>\n",
       "    <tr>\n",
       "      <th>3</th>\n",
       "      <td>Trump Is So Obsessed He Even Has Obama’s Name...</td>\n",
       "      <td>On Christmas day, Donald Trump announced that ...</td>\n",
       "      <td>News</td>\n",
       "      <td>December 29, 2017</td>\n",
       "    </tr>\n",
       "    <tr>\n",
       "      <th>4</th>\n",
       "      <td>Pope Francis Just Called Out Donald Trump Dur...</td>\n",
       "      <td>Pope Francis used his annual Christmas Day mes...</td>\n",
       "      <td>News</td>\n",
       "      <td>December 25, 2017</td>\n",
       "    </tr>\n",
       "    <tr>\n",
       "      <th>...</th>\n",
       "      <td>...</td>\n",
       "      <td>...</td>\n",
       "      <td>...</td>\n",
       "      <td>...</td>\n",
       "    </tr>\n",
       "    <tr>\n",
       "      <th>23445</th>\n",
       "      <td>McPain: John McCain Furious That Iran Treated ...</td>\n",
       "      <td>21st Century Wire says As 21WIRE reported earl...</td>\n",
       "      <td>Middle-east</td>\n",
       "      <td>January 16, 2016</td>\n",
       "    </tr>\n",
       "    <tr>\n",
       "      <th>23446</th>\n",
       "      <td>JUSTICE? Yahoo Settles E-mail Privacy Class-ac...</td>\n",
       "      <td>21st Century Wire says It s a familiar theme. ...</td>\n",
       "      <td>Middle-east</td>\n",
       "      <td>January 16, 2016</td>\n",
       "    </tr>\n",
       "    <tr>\n",
       "      <th>23447</th>\n",
       "      <td>Sunnistan: US and Allied ‘Safe Zone’ Plan to T...</td>\n",
       "      <td>Patrick Henningsen  21st Century WireRemember ...</td>\n",
       "      <td>Middle-east</td>\n",
       "      <td>January 15, 2016</td>\n",
       "    </tr>\n",
       "    <tr>\n",
       "      <th>23448</th>\n",
       "      <td>How to Blow $700 Million: Al Jazeera America F...</td>\n",
       "      <td>21st Century Wire says Al Jazeera America will...</td>\n",
       "      <td>Middle-east</td>\n",
       "      <td>January 14, 2016</td>\n",
       "    </tr>\n",
       "    <tr>\n",
       "      <th>23449</th>\n",
       "      <td>10 U.S. Navy Sailors Held by Iranian Military ...</td>\n",
       "      <td>21st Century Wire says As 21WIRE predicted in ...</td>\n",
       "      <td>Middle-east</td>\n",
       "      <td>January 12, 2016</td>\n",
       "    </tr>\n",
       "  </tbody>\n",
       "</table>\n",
       "<p>23450 rows × 4 columns</p>\n",
       "</div>"
      ],
      "text/plain": [
       "                                                   title  \\\n",
       "0       Donald Trump Sends Out Embarrassing New Year’...   \n",
       "1       Drunk Bragging Trump Staffer Started Russian ...   \n",
       "2       Sheriff David Clarke Becomes An Internet Joke...   \n",
       "3       Trump Is So Obsessed He Even Has Obama’s Name...   \n",
       "4       Pope Francis Just Called Out Donald Trump Dur...   \n",
       "...                                                  ...   \n",
       "23445  McPain: John McCain Furious That Iran Treated ...   \n",
       "23446  JUSTICE? Yahoo Settles E-mail Privacy Class-ac...   \n",
       "23447  Sunnistan: US and Allied ‘Safe Zone’ Plan to T...   \n",
       "23448  How to Blow $700 Million: Al Jazeera America F...   \n",
       "23449  10 U.S. Navy Sailors Held by Iranian Military ...   \n",
       "\n",
       "                                                    text      subject  \\\n",
       "0      Donald Trump just couldn t wish all Americans ...         News   \n",
       "1      House Intelligence Committee Chairman Devin Nu...         News   \n",
       "2      On Friday, it was revealed that former Milwauk...         News   \n",
       "3      On Christmas day, Donald Trump announced that ...         News   \n",
       "4      Pope Francis used his annual Christmas Day mes...         News   \n",
       "...                                                  ...          ...   \n",
       "23445  21st Century Wire says As 21WIRE reported earl...  Middle-east   \n",
       "23446  21st Century Wire says It s a familiar theme. ...  Middle-east   \n",
       "23447  Patrick Henningsen  21st Century WireRemember ...  Middle-east   \n",
       "23448  21st Century Wire says Al Jazeera America will...  Middle-east   \n",
       "23449  21st Century Wire says As 21WIRE predicted in ...  Middle-east   \n",
       "\n",
       "                    date  \n",
       "0      December 31, 2017  \n",
       "1      December 31, 2017  \n",
       "2      December 30, 2017  \n",
       "3      December 29, 2017  \n",
       "4      December 25, 2017  \n",
       "...                  ...  \n",
       "23445   January 16, 2016  \n",
       "23446   January 16, 2016  \n",
       "23447   January 15, 2016  \n",
       "23448   January 14, 2016  \n",
       "23449   January 12, 2016  \n",
       "\n",
       "[23450 rows x 4 columns]"
      ]
     },
     "execution_count": 3,
     "metadata": {},
     "output_type": "execute_result"
    }
   ],
   "source": [
    "fake_df"
   ]
  },
  {
   "cell_type": "code",
   "execution_count": 4,
   "id": "fad2de7f",
   "metadata": {},
   "outputs": [
    {
     "data": {
      "text/html": [
       "<div>\n",
       "<style scoped>\n",
       "    .dataframe tbody tr th:only-of-type {\n",
       "        vertical-align: middle;\n",
       "    }\n",
       "\n",
       "    .dataframe tbody tr th {\n",
       "        vertical-align: top;\n",
       "    }\n",
       "\n",
       "    .dataframe thead th {\n",
       "        text-align: right;\n",
       "    }\n",
       "</style>\n",
       "<table border=\"1\" class=\"dataframe\">\n",
       "  <thead>\n",
       "    <tr style=\"text-align: right;\">\n",
       "      <th></th>\n",
       "      <th>title</th>\n",
       "      <th>text</th>\n",
       "      <th>subject</th>\n",
       "      <th>date</th>\n",
       "    </tr>\n",
       "  </thead>\n",
       "  <tbody>\n",
       "    <tr>\n",
       "      <th>0</th>\n",
       "      <td>As U.S. budget fight looms, Republicans flip t...</td>\n",
       "      <td>WASHINGTON (Reuters) - The head of a conservat...</td>\n",
       "      <td>politicsNews</td>\n",
       "      <td>December 31, 2017</td>\n",
       "    </tr>\n",
       "    <tr>\n",
       "      <th>1</th>\n",
       "      <td>U.S. military to accept transgender recruits o...</td>\n",
       "      <td>WASHINGTON (Reuters) - Transgender people will...</td>\n",
       "      <td>politicsNews</td>\n",
       "      <td>December 29, 2017</td>\n",
       "    </tr>\n",
       "    <tr>\n",
       "      <th>2</th>\n",
       "      <td>Senior U.S. Republican senator: 'Let Mr. Muell...</td>\n",
       "      <td>WASHINGTON (Reuters) - The special counsel inv...</td>\n",
       "      <td>politicsNews</td>\n",
       "      <td>December 31, 2017</td>\n",
       "    </tr>\n",
       "    <tr>\n",
       "      <th>3</th>\n",
       "      <td>FBI Russia probe helped by Australian diplomat...</td>\n",
       "      <td>WASHINGTON (Reuters) - Trump campaign adviser ...</td>\n",
       "      <td>politicsNews</td>\n",
       "      <td>December 30, 2017</td>\n",
       "    </tr>\n",
       "    <tr>\n",
       "      <th>4</th>\n",
       "      <td>Trump wants Postal Service to charge 'much mor...</td>\n",
       "      <td>SEATTLE/WASHINGTON (Reuters) - President Donal...</td>\n",
       "      <td>politicsNews</td>\n",
       "      <td>December 29, 2017</td>\n",
       "    </tr>\n",
       "    <tr>\n",
       "      <th>...</th>\n",
       "      <td>...</td>\n",
       "      <td>...</td>\n",
       "      <td>...</td>\n",
       "      <td>...</td>\n",
       "    </tr>\n",
       "    <tr>\n",
       "      <th>21412</th>\n",
       "      <td>'Fully committed' NATO backs new U.S. approach...</td>\n",
       "      <td>BRUSSELS (Reuters) - NATO allies on Tuesday we...</td>\n",
       "      <td>worldnews</td>\n",
       "      <td>August 22, 2017</td>\n",
       "    </tr>\n",
       "    <tr>\n",
       "      <th>21413</th>\n",
       "      <td>LexisNexis withdrew two products from Chinese ...</td>\n",
       "      <td>LONDON (Reuters) - LexisNexis, a provider of l...</td>\n",
       "      <td>worldnews</td>\n",
       "      <td>August 22, 2017</td>\n",
       "    </tr>\n",
       "    <tr>\n",
       "      <th>21414</th>\n",
       "      <td>Minsk cultural hub becomes haven from authorities</td>\n",
       "      <td>MINSK (Reuters) - In the shadow of disused Sov...</td>\n",
       "      <td>worldnews</td>\n",
       "      <td>August 22, 2017</td>\n",
       "    </tr>\n",
       "    <tr>\n",
       "      <th>21415</th>\n",
       "      <td>Vatican upbeat on possibility of Pope Francis ...</td>\n",
       "      <td>MOSCOW (Reuters) - Vatican Secretary of State ...</td>\n",
       "      <td>worldnews</td>\n",
       "      <td>August 22, 2017</td>\n",
       "    </tr>\n",
       "    <tr>\n",
       "      <th>21416</th>\n",
       "      <td>Indonesia to buy $1.14 billion worth of Russia...</td>\n",
       "      <td>JAKARTA (Reuters) - Indonesia will buy 11 Sukh...</td>\n",
       "      <td>worldnews</td>\n",
       "      <td>August 22, 2017</td>\n",
       "    </tr>\n",
       "  </tbody>\n",
       "</table>\n",
       "<p>21417 rows × 4 columns</p>\n",
       "</div>"
      ],
      "text/plain": [
       "                                                   title  \\\n",
       "0      As U.S. budget fight looms, Republicans flip t...   \n",
       "1      U.S. military to accept transgender recruits o...   \n",
       "2      Senior U.S. Republican senator: 'Let Mr. Muell...   \n",
       "3      FBI Russia probe helped by Australian diplomat...   \n",
       "4      Trump wants Postal Service to charge 'much mor...   \n",
       "...                                                  ...   \n",
       "21412  'Fully committed' NATO backs new U.S. approach...   \n",
       "21413  LexisNexis withdrew two products from Chinese ...   \n",
       "21414  Minsk cultural hub becomes haven from authorities   \n",
       "21415  Vatican upbeat on possibility of Pope Francis ...   \n",
       "21416  Indonesia to buy $1.14 billion worth of Russia...   \n",
       "\n",
       "                                                    text       subject  \\\n",
       "0      WASHINGTON (Reuters) - The head of a conservat...  politicsNews   \n",
       "1      WASHINGTON (Reuters) - Transgender people will...  politicsNews   \n",
       "2      WASHINGTON (Reuters) - The special counsel inv...  politicsNews   \n",
       "3      WASHINGTON (Reuters) - Trump campaign adviser ...  politicsNews   \n",
       "4      SEATTLE/WASHINGTON (Reuters) - President Donal...  politicsNews   \n",
       "...                                                  ...           ...   \n",
       "21412  BRUSSELS (Reuters) - NATO allies on Tuesday we...     worldnews   \n",
       "21413  LONDON (Reuters) - LexisNexis, a provider of l...     worldnews   \n",
       "21414  MINSK (Reuters) - In the shadow of disused Sov...     worldnews   \n",
       "21415  MOSCOW (Reuters) - Vatican Secretary of State ...     worldnews   \n",
       "21416  JAKARTA (Reuters) - Indonesia will buy 11 Sukh...     worldnews   \n",
       "\n",
       "                     date  \n",
       "0      December 31, 2017   \n",
       "1      December 29, 2017   \n",
       "2      December 31, 2017   \n",
       "3      December 30, 2017   \n",
       "4      December 29, 2017   \n",
       "...                   ...  \n",
       "21412    August 22, 2017   \n",
       "21413    August 22, 2017   \n",
       "21414    August 22, 2017   \n",
       "21415    August 22, 2017   \n",
       "21416    August 22, 2017   \n",
       "\n",
       "[21417 rows x 4 columns]"
      ]
     },
     "execution_count": 4,
     "metadata": {},
     "output_type": "execute_result"
    }
   ],
   "source": [
    "real_df"
   ]
  },
  {
   "cell_type": "code",
   "execution_count": 5,
   "id": "ed7afb38",
   "metadata": {},
   "outputs": [
    {
     "data": {
      "text/plain": [
       "title           44867\n",
       "text            44867\n",
       "subject         44867\n",
       "date            44867\n",
       "news_outcome    44867\n",
       "dtype: int64"
      ]
     },
     "execution_count": 5,
     "metadata": {},
     "output_type": "execute_result"
    }
   ],
   "source": [
    "# Join datasets with on target variable\n",
    "fake_df[\"news_outcome\"] = 1\n",
    "real_df[\"news_outcome\"] = 0\n",
    "\n",
    "news_df = pd.concat([fake_df, real_df])\n",
    "news_df.count()"
   ]
  },
  {
   "cell_type": "code",
   "execution_count": 6,
   "id": "e32e81c9",
   "metadata": {},
   "outputs": [
    {
     "data": {
      "text/plain": [
       "title           44867\n",
       "text            44867\n",
       "subject         44867\n",
       "date            44867\n",
       "news_outcome    44867\n",
       "dtype: int64"
      ]
     },
     "execution_count": 6,
     "metadata": {},
     "output_type": "execute_result"
    }
   ],
   "source": [
    "# Remove null values\n",
    "news_df = news_df.dropna()\n",
    "news_df.count()"
   ]
  },
  {
   "cell_type": "code",
   "execution_count": 7,
   "id": "78b8ce2d",
   "metadata": {
    "scrolled": true
   },
   "outputs": [
    {
     "data": {
      "text/plain": [
       "title           44658\n",
       "text            44658\n",
       "subject         44658\n",
       "date            44658\n",
       "news_outcome    44658\n",
       "dtype: int64"
      ]
     },
     "execution_count": 7,
     "metadata": {},
     "output_type": "execute_result"
    }
   ],
   "source": [
    "# Drop duplicates\n",
    "news_df = news_df.drop_duplicates(keep=\"first\")\n",
    "news_df.count()"
   ]
  },
  {
   "cell_type": "markdown",
   "id": "2f0c7899",
   "metadata": {},
   "source": [
    "## Text Cleaning"
   ]
  },
  {
   "cell_type": "code",
   "execution_count": 8,
   "id": "2be275c4",
   "metadata": {},
   "outputs": [],
   "source": [
    "# Clean 'title' feature with TextHero\n",
    "\n",
    "# Remove punctuation\n",
    "news_df['title'] = hero.remove_punctuation(news_df['title'])\n",
    "# Convert to lowercase\n",
    "news_df['title'] = hero.lowercase(news_df['title'])\n",
    "# Remove URLs\n",
    "news_df['title'] = hero.remove_urls(news_df['title'])\n",
    "# Convert foreign symbols\n",
    "news_df['title'] = hero.remove_diacritics(news_df['title'])\n",
    "# Remove brackets\n",
    "news_df['title'] = hero.remove_brackets(news_df['title'])\n",
    "news_df['title'] = hero.remove_angle_brackets(news_df['title'])\n",
    "news_df['title'] = hero.remove_curly_brackets(news_df['title'])\n",
    "news_df['title'] = hero.remove_round_brackets(news_df['title'])\n",
    "news_df['title'] = hero.remove_square_brackets(news_df['title'])\n",
    "# Remove stopwords (e.g. and, then)\n",
    "news_df['title'] = hero.remove_stopwords(news_df['title'])\n",
    "# Remove excess spaces\n",
    "news_df['title'] = hero.remove_whitespace(news_df['title'])"
   ]
  },
  {
   "cell_type": "code",
   "execution_count": 9,
   "id": "098062ad",
   "metadata": {},
   "outputs": [
    {
     "data": {
      "text/plain": [
       "0    donald trump sends embarrassing new year' eve ...\n",
       "1    drunk bragging trump staffer started russian c...\n",
       "2    sheriff david clarke becomes internet joke thr...\n",
       "3    trump obsessed even obama' name coded website ...\n",
       "4    pope francis called donald trump christmas speech\n",
       "Name: title, dtype: object"
      ]
     },
     "execution_count": 9,
     "metadata": {},
     "output_type": "execute_result"
    }
   ],
   "source": [
    "news_df['title'].head()"
   ]
  },
  {
   "cell_type": "code",
   "execution_count": 10,
   "id": "e109a7d5",
   "metadata": {
    "scrolled": true
   },
   "outputs": [],
   "source": [
    "## Clean 'text' feature with TextHero\n",
    "\n",
    "# Remove punctuation\n",
    "news_df['text'] = hero.remove_punctuation(news_df['text'])\n",
    "# Convert to lowercase\n",
    "news_df['text'] = hero.lowercase(news_df['text'])\n",
    "# Remove URLs\n",
    "news_df['text'] = hero.remove_urls(news_df['text'])\n",
    "# Remove foreign symbols\n",
    "news_df['text'] = hero.remove_diacritics(news_df['text'])\n",
    "# Remove brackets\n",
    "news_df['text'] = hero.remove_brackets(news_df['text'])\n",
    "news_df['text'] = hero.remove_angle_brackets(news_df['text'])\n",
    "news_df['text'] = hero.remove_curly_brackets(news_df['text'])\n",
    "news_df['text'] = hero.remove_round_brackets(news_df['text'])\n",
    "news_df['text'] = hero.remove_square_brackets(news_df['text'])\n",
    "# Remove stopwords (e.g. and, then)\n",
    "news_df['text'] = hero.remove_stopwords(news_df['text'])\n",
    "# Remove excess spaces\n",
    "news_df['text'] = hero.remove_whitespace(news_df['text'])"
   ]
  },
  {
   "cell_type": "code",
   "execution_count": 11,
   "id": "a4ac707f",
   "metadata": {
    "scrolled": true
   },
   "outputs": [
    {
     "data": {
      "text/plain": [
       "0    donald trump wish americans happy new year lea...\n",
       "1    house intelligence committee chairman devin nu...\n",
       "2    friday revealed former milwaukee sheriff david...\n",
       "3    christmas day donald trump announced would bac...\n",
       "4    pope francis used annual christmas day message...\n",
       "Name: text, dtype: object"
      ]
     },
     "execution_count": 11,
     "metadata": {},
     "output_type": "execute_result"
    }
   ],
   "source": [
    "news_df[\"text\"].head()"
   ]
  },
  {
   "cell_type": "code",
   "execution_count": 12,
   "id": "c3601bf5",
   "metadata": {
    "scrolled": true
   },
   "outputs": [
    {
     "name": "stderr",
     "output_type": "stream",
     "text": [
      "C:\\Users\\gjeff\\AppData\\Local\\Temp\\ipykernel_2592\\567474024.py:1: FutureWarning: The default value of regex will change from True to False in a future version.\n",
      "  news_df[\"title\"] = news_df[\"title\"].str.replace('[^\\w\\s]','')\n"
     ]
    }
   ],
   "source": [
    "# Further punctuation cleansing for title\n",
    "news_df[\"title\"] = news_df[\"title\"].str.replace('[^\\w\\s]','')"
   ]
  },
  {
   "cell_type": "code",
   "execution_count": 13,
   "id": "3248a462",
   "metadata": {},
   "outputs": [
    {
     "name": "stderr",
     "output_type": "stream",
     "text": [
      "C:\\Users\\gjeff\\AppData\\Local\\Temp\\ipykernel_2592\\1303483160.py:1: FutureWarning: The default value of regex will change from True to False in a future version.\n",
      "  news_df[\"text\"] = news_df[\"text\"].str.replace('[^\\w\\s]','')\n"
     ]
    }
   ],
   "source": [
    "# Further punctuation cleansing for text\n",
    "news_df[\"text\"] = news_df[\"text\"].str.replace('[^\\w\\s]','')"
   ]
  },
  {
   "cell_type": "markdown",
   "id": "ca6eef07",
   "metadata": {},
   "source": [
    "## Lemmatisation"
   ]
  },
  {
   "cell_type": "code",
   "execution_count": 14,
   "id": "b65893a4",
   "metadata": {},
   "outputs": [],
   "source": [
    "import spacy\n",
    "nlp = spacy.load('en_core_web_sm')"
   ]
  },
  {
   "cell_type": "code",
   "execution_count": 15,
   "id": "bfa834d0",
   "metadata": {},
   "outputs": [],
   "source": [
    "# Define lemmatise function to loop through dataframe\n",
    "def lemmatise(text):\n",
    "    doc = nlp(text)\n",
    "    return \" \".join([token.lemma_ for token in doc])"
   ]
  },
  {
   "cell_type": "code",
   "execution_count": 16,
   "id": "f9ac3cf7",
   "metadata": {},
   "outputs": [
    {
     "data": {
      "text/plain": [
       "0    donald trump send embarrassing new year eve me...\n",
       "1    drunk bragging trump staffer start russian col...\n",
       "2    sheriff david clarke become internet joke thre...\n",
       "3     trump obsess even obama name coded website image\n",
       "4      pope francis call donald trump christmas speech\n",
       "Name: title, dtype: object"
      ]
     },
     "execution_count": 16,
     "metadata": {},
     "output_type": "execute_result"
    }
   ],
   "source": [
    "# Lemmatise title feature\n",
    "news_df[\"title\"] = news_df[\"title\"].apply(lemmatise)\n",
    "news_df[\"title\"].head()"
   ]
  },
  {
   "cell_type": "code",
   "execution_count": 17,
   "id": "866b65e6",
   "metadata": {
    "scrolled": true
   },
   "outputs": [
    {
     "data": {
      "text/plain": [
       "0    donald trump wish americans happy new year lea...\n",
       "1    house intelligence committee chairman devin nu...\n",
       "2    friday reveal former milwaukee sheriff david c...\n",
       "3    christmas day donald trump announce would back...\n",
       "4    pope francis use annual christmas day message ...\n",
       "Name: text, dtype: object"
      ]
     },
     "execution_count": 17,
     "metadata": {},
     "output_type": "execute_result"
    }
   ],
   "source": [
    "# Lemmatise text feature\n",
    "news_df[\"text\"] = news_df[\"text\"].apply(lemmatise)\n",
    "news_df[\"text\"].head()"
   ]
  },
  {
   "cell_type": "markdown",
   "id": "bd50bd08",
   "metadata": {},
   "source": [
    "## Tokenisation"
   ]
  },
  {
   "cell_type": "code",
   "execution_count": 19,
   "id": "8449351e",
   "metadata": {},
   "outputs": [],
   "source": [
    "# Tokenise title feature\n",
    "news_df['title'] = hero.tokenize(news_df['title'])"
   ]
  },
  {
   "cell_type": "code",
   "execution_count": 20,
   "id": "505e5503",
   "metadata": {},
   "outputs": [],
   "source": [
    "# Tokenise text feature\n",
    "news_df['text'] = hero.tokenize(news_df['text'])"
   ]
  },
  {
   "cell_type": "code",
   "execution_count": 21,
   "id": "4fa5d0d0",
   "metadata": {},
   "outputs": [
    {
     "data": {
      "text/html": [
       "<div>\n",
       "<style scoped>\n",
       "    .dataframe tbody tr th:only-of-type {\n",
       "        vertical-align: middle;\n",
       "    }\n",
       "\n",
       "    .dataframe tbody tr th {\n",
       "        vertical-align: top;\n",
       "    }\n",
       "\n",
       "    .dataframe thead th {\n",
       "        text-align: right;\n",
       "    }\n",
       "</style>\n",
       "<table border=\"1\" class=\"dataframe\">\n",
       "  <thead>\n",
       "    <tr style=\"text-align: right;\">\n",
       "      <th></th>\n",
       "      <th>title</th>\n",
       "      <th>text</th>\n",
       "      <th>subject</th>\n",
       "      <th>date</th>\n",
       "      <th>news_outcome</th>\n",
       "    </tr>\n",
       "  </thead>\n",
       "  <tbody>\n",
       "    <tr>\n",
       "      <th>0</th>\n",
       "      <td>[donald, trump, send, embarrassing, new, year,...</td>\n",
       "      <td>[donald, trump, wish, americans, happy, new, y...</td>\n",
       "      <td>News</td>\n",
       "      <td>December 31, 2017</td>\n",
       "      <td>1</td>\n",
       "    </tr>\n",
       "    <tr>\n",
       "      <th>1</th>\n",
       "      <td>[drunk, bragging, trump, staffer, start, russi...</td>\n",
       "      <td>[house, intelligence, committee, chairman, dev...</td>\n",
       "      <td>News</td>\n",
       "      <td>December 31, 2017</td>\n",
       "      <td>1</td>\n",
       "    </tr>\n",
       "    <tr>\n",
       "      <th>2</th>\n",
       "      <td>[sheriff, david, clarke, become, internet, jok...</td>\n",
       "      <td>[friday, reveal, former, milwaukee, sheriff, d...</td>\n",
       "      <td>News</td>\n",
       "      <td>December 30, 2017</td>\n",
       "      <td>1</td>\n",
       "    </tr>\n",
       "    <tr>\n",
       "      <th>3</th>\n",
       "      <td>[trump, obsess, even, obama, name, coded, webs...</td>\n",
       "      <td>[christmas, day, donald, trump, announce, woul...</td>\n",
       "      <td>News</td>\n",
       "      <td>December 29, 2017</td>\n",
       "      <td>1</td>\n",
       "    </tr>\n",
       "    <tr>\n",
       "      <th>4</th>\n",
       "      <td>[pope, francis, call, donald, trump, christmas...</td>\n",
       "      <td>[pope, francis, use, annual, christmas, day, m...</td>\n",
       "      <td>News</td>\n",
       "      <td>December 25, 2017</td>\n",
       "      <td>1</td>\n",
       "    </tr>\n",
       "  </tbody>\n",
       "</table>\n",
       "</div>"
      ],
      "text/plain": [
       "                                               title  \\\n",
       "0  [donald, trump, send, embarrassing, new, year,...   \n",
       "1  [drunk, bragging, trump, staffer, start, russi...   \n",
       "2  [sheriff, david, clarke, become, internet, jok...   \n",
       "3  [trump, obsess, even, obama, name, coded, webs...   \n",
       "4  [pope, francis, call, donald, trump, christmas...   \n",
       "\n",
       "                                                text subject  \\\n",
       "0  [donald, trump, wish, americans, happy, new, y...    News   \n",
       "1  [house, intelligence, committee, chairman, dev...    News   \n",
       "2  [friday, reveal, former, milwaukee, sheriff, d...    News   \n",
       "3  [christmas, day, donald, trump, announce, woul...    News   \n",
       "4  [pope, francis, use, annual, christmas, day, m...    News   \n",
       "\n",
       "                date  news_outcome  \n",
       "0  December 31, 2017             1  \n",
       "1  December 31, 2017             1  \n",
       "2  December 30, 2017             1  \n",
       "3  December 29, 2017             1  \n",
       "4  December 25, 2017             1  "
      ]
     },
     "execution_count": 21,
     "metadata": {},
     "output_type": "execute_result"
    }
   ],
   "source": [
    "news_df.head()"
   ]
  },
  {
   "cell_type": "code",
   "execution_count": 25,
   "id": "59e97fec",
   "metadata": {},
   "outputs": [],
   "source": [
    "# Convert date from string to date data type\n",
    "news_df['date'] = pd.to_datetime(news_df['date'])"
   ]
  },
  {
   "cell_type": "code",
   "execution_count": 26,
   "id": "1475125c",
   "metadata": {},
   "outputs": [
    {
     "data": {
      "text/html": [
       "<div>\n",
       "<style scoped>\n",
       "    .dataframe tbody tr th:only-of-type {\n",
       "        vertical-align: middle;\n",
       "    }\n",
       "\n",
       "    .dataframe tbody tr th {\n",
       "        vertical-align: top;\n",
       "    }\n",
       "\n",
       "    .dataframe thead th {\n",
       "        text-align: right;\n",
       "    }\n",
       "</style>\n",
       "<table border=\"1\" class=\"dataframe\">\n",
       "  <thead>\n",
       "    <tr style=\"text-align: right;\">\n",
       "      <th></th>\n",
       "      <th>title</th>\n",
       "      <th>text</th>\n",
       "      <th>subject</th>\n",
       "      <th>date</th>\n",
       "      <th>news_outcome</th>\n",
       "    </tr>\n",
       "  </thead>\n",
       "  <tbody>\n",
       "    <tr>\n",
       "      <th>0</th>\n",
       "      <td>[donald, trump, send, embarrassing, new, year,...</td>\n",
       "      <td>[donald, trump, wish, americans, happy, new, y...</td>\n",
       "      <td>News</td>\n",
       "      <td>2017-12-31</td>\n",
       "      <td>1</td>\n",
       "    </tr>\n",
       "    <tr>\n",
       "      <th>1</th>\n",
       "      <td>[drunk, bragging, trump, staffer, start, russi...</td>\n",
       "      <td>[house, intelligence, committee, chairman, dev...</td>\n",
       "      <td>News</td>\n",
       "      <td>2017-12-31</td>\n",
       "      <td>1</td>\n",
       "    </tr>\n",
       "    <tr>\n",
       "      <th>2</th>\n",
       "      <td>[sheriff, david, clarke, become, internet, jok...</td>\n",
       "      <td>[friday, reveal, former, milwaukee, sheriff, d...</td>\n",
       "      <td>News</td>\n",
       "      <td>2017-12-30</td>\n",
       "      <td>1</td>\n",
       "    </tr>\n",
       "    <tr>\n",
       "      <th>3</th>\n",
       "      <td>[trump, obsess, even, obama, name, coded, webs...</td>\n",
       "      <td>[christmas, day, donald, trump, announce, woul...</td>\n",
       "      <td>News</td>\n",
       "      <td>2017-12-29</td>\n",
       "      <td>1</td>\n",
       "    </tr>\n",
       "    <tr>\n",
       "      <th>4</th>\n",
       "      <td>[pope, francis, call, donald, trump, christmas...</td>\n",
       "      <td>[pope, francis, use, annual, christmas, day, m...</td>\n",
       "      <td>News</td>\n",
       "      <td>2017-12-25</td>\n",
       "      <td>1</td>\n",
       "    </tr>\n",
       "  </tbody>\n",
       "</table>\n",
       "</div>"
      ],
      "text/plain": [
       "                                               title  \\\n",
       "0  [donald, trump, send, embarrassing, new, year,...   \n",
       "1  [drunk, bragging, trump, staffer, start, russi...   \n",
       "2  [sheriff, david, clarke, become, internet, jok...   \n",
       "3  [trump, obsess, even, obama, name, coded, webs...   \n",
       "4  [pope, francis, call, donald, trump, christmas...   \n",
       "\n",
       "                                                text subject       date  \\\n",
       "0  [donald, trump, wish, americans, happy, new, y...    News 2017-12-31   \n",
       "1  [house, intelligence, committee, chairman, dev...    News 2017-12-31   \n",
       "2  [friday, reveal, former, milwaukee, sheriff, d...    News 2017-12-30   \n",
       "3  [christmas, day, donald, trump, announce, woul...    News 2017-12-29   \n",
       "4  [pope, francis, use, annual, christmas, day, m...    News 2017-12-25   \n",
       "\n",
       "   news_outcome  \n",
       "0             1  \n",
       "1             1  \n",
       "2             1  \n",
       "3             1  \n",
       "4             1  "
      ]
     },
     "execution_count": 26,
     "metadata": {},
     "output_type": "execute_result"
    }
   ],
   "source": [
    "news_df.head()"
   ]
  },
  {
   "cell_type": "code",
   "execution_count": 27,
   "id": "17b9dd56",
   "metadata": {},
   "outputs": [],
   "source": [
    "# Export cleaned CSV file\n",
    "news_df.to_csv('resources/news.csv', index=False)"
   ]
  },
  {
   "cell_type": "markdown",
   "id": "04230078",
   "metadata": {},
   "source": [
    "## SQL Table Creation\n",
    "\n",
    "DROP TABLE IF EXISTS news;\n",
    "\n",
    "CREATE TABLE news (\n",
    "\ttitle VARCHAR(60000),\n",
    "\ttext VARCHAR(60000),\n",
    "\tsubject VARCHAR(250),\n",
    "\tdate DATE,\n",
    "\tnews_outcome INT\n",
    ")\n",
    "\n",
    "\n",
    "One row removed within excel after export as the document \n",
    "appears error free in jupyter notebook.\n",
    "Error Type: Non numerical value in 'news_outcome' feature \n",
    "but doesnt show up in pd dataframe when tested."
   ]
  }
 ],
 "metadata": {
  "kernelspec": {
   "display_name": "Python 3",
   "language": "python",
   "name": "python3"
  },
  "language_info": {
   "codemirror_mode": {
    "name": "ipython",
    "version": 3
   },
   "file_extension": ".py",
   "mimetype": "text/x-python",
   "name": "python",
   "nbconvert_exporter": "python",
   "pygments_lexer": "ipython3",
   "version": "3.8.8"
  },
  "widgets": {
   "application/vnd.jupyter.widget-state+json": {
    "state": {},
    "version_major": 2,
    "version_minor": 0
   }
  }
 },
 "nbformat": 4,
 "nbformat_minor": 5
}
